{
 "cells": [
  {
   "cell_type": "markdown",
   "metadata": {
    "slideshow": {
     "slide_type": "slide"
    }
   },
   "source": [
    "## WCRW - Applied Machine Learning 2nd Assignment\n",
    "### Fall Semester 2019-2020\n",
    "***\n",
    "> Nikolaos Fragkomanolis AM: 8160142 <br />\n",
    "> Athens University of Economics and Business 29/11/2019 <br />"
   ]
  },
  {
   "cell_type": "markdown",
   "metadata": {
    "slideshow": {
     "slide_type": "slide"
    }
   },
   "source": [
    "At first, we import the necessary libs in order to examine our data and produce the results needed. After producing a sample of the data, we see that it's impossible to read all the columns of the dataframe. For this reason we visit the [documentation](https://www.ericachenoweth.com/wp-content/uploads/2019/07/WCRW-Appendix.pdf) of the research and read the description of the columns."
   ]
  },
  {
   "cell_type": "code",
   "execution_count": 1,
   "metadata": {
    "slideshow": {
     "slide_type": "fragment"
    }
   },
   "outputs": [],
   "source": [
    "import pandas as pd\n",
    "import numpy as np\n",
    "import matplotlib.pyplot as plt\n",
    "from statsmodels.stats.outliers_influence import summary_table\n",
    "from statsmodels.formula.api import logit\n",
    "\n",
    "%matplotlib inline"
   ]
  },
  {
   "cell_type": "code",
   "execution_count": 2,
   "metadata": {
    "slideshow": {
     "slide_type": "fragment"
    }
   },
   "outputs": [
    {
     "data": {
      "text/html": [
       "<div>\n",
       "<style scoped>\n",
       "    .dataframe tbody tr th:only-of-type {\n",
       "        vertical-align: middle;\n",
       "    }\n",
       "\n",
       "    .dataframe tbody tr th {\n",
       "        vertical-align: top;\n",
       "    }\n",
       "\n",
       "    .dataframe thead th {\n",
       "        text-align: right;\n",
       "    }\n",
       "</style>\n",
       "<table border=\"1\" class=\"dataframe\">\n",
       "  <thead>\n",
       "    <tr style=\"text-align: right;\">\n",
       "      <th></th>\n",
       "      <th>defect</th>\n",
       "      <th>outcome</th>\n",
       "      <th>peakmembership</th>\n",
       "      <th>eyear</th>\n",
       "      <th>byear</th>\n",
       "      <th>location</th>\n",
       "      <th>campaign</th>\n",
       "      <th>target</th>\n",
       "      <th>lccode</th>\n",
       "      <th>tccode</th>\n",
       "      <th>...</th>\n",
       "      <th>lmtnest</th>\n",
       "      <th>ef</th>\n",
       "      <th>loclpolity1</th>\n",
       "      <th>loclcap1</th>\n",
       "      <th>loclcap2</th>\n",
       "      <th>loclcap3</th>\n",
       "      <th>loclcap4</th>\n",
       "      <th>mempc</th>\n",
       "      <th>demdum</th>\n",
       "      <th>recur1</th>\n",
       "    </tr>\n",
       "  </thead>\n",
       "  <tbody>\n",
       "    <tr>\n",
       "      <th>162</th>\n",
       "      <td>0.0</td>\n",
       "      <td>3</td>\n",
       "      <td>NaN</td>\n",
       "      <td>1964</td>\n",
       "      <td>1963</td>\n",
       "      <td>Rwanda</td>\n",
       "      <td>Watusi</td>\n",
       "      <td>Hutu regime</td>\n",
       "      <td>517.0</td>\n",
       "      <td>517.0</td>\n",
       "      <td>...</td>\n",
       "      <td>4.309456</td>\n",
       "      <td>0.18</td>\n",
       "      <td>-5.0</td>\n",
       "      <td>1.0</td>\n",
       "      <td>0.0</td>\n",
       "      <td>0.0</td>\n",
       "      <td>0.0</td>\n",
       "      <td>NaN</td>\n",
       "      <td>0.0</td>\n",
       "      <td>0.0</td>\n",
       "    </tr>\n",
       "    <tr>\n",
       "      <th>91</th>\n",
       "      <td>0.0</td>\n",
       "      <td>3</td>\n",
       "      <td>40000.0</td>\n",
       "      <td>1949</td>\n",
       "      <td>1944</td>\n",
       "      <td>Greece</td>\n",
       "      <td>Greek communists</td>\n",
       "      <td>British and US occupation</td>\n",
       "      <td>350.0</td>\n",
       "      <td>2.0</td>\n",
       "      <td>...</td>\n",
       "      <td>NaN</td>\n",
       "      <td>NaN</td>\n",
       "      <td>0.0</td>\n",
       "      <td>NaN</td>\n",
       "      <td>NaN</td>\n",
       "      <td>NaN</td>\n",
       "      <td>NaN</td>\n",
       "      <td>NaN</td>\n",
       "      <td>0.0</td>\n",
       "      <td>0.0</td>\n",
       "    </tr>\n",
       "  </tbody>\n",
       "</table>\n",
       "<p>2 rows × 85 columns</p>\n",
       "</div>"
      ],
      "text/plain": [
       "     defect  outcome  peakmembership  eyear  byear location          campaign  \\\n",
       "162     0.0        3             NaN   1964   1963   Rwanda            Watusi   \n",
       "91      0.0        3         40000.0   1949   1944   Greece  Greek communists   \n",
       "\n",
       "                        target  lccode  tccode  ...   lmtnest    ef  \\\n",
       "162                Hutu regime   517.0   517.0  ...  4.309456  0.18   \n",
       "91   British and US occupation   350.0     2.0  ...       NaN   NaN   \n",
       "\n",
       "     loclpolity1  loclcap1  loclcap2  loclcap3  loclcap4  mempc  demdum  \\\n",
       "162         -5.0       1.0       0.0       0.0       0.0    NaN     0.0   \n",
       "91           0.0       NaN       NaN       NaN       NaN    NaN     0.0   \n",
       "\n",
       "     recur1  \n",
       "162     0.0  \n",
       "91      0.0  \n",
       "\n",
       "[2 rows x 85 columns]"
      ]
     },
     "execution_count": 2,
     "metadata": {},
     "output_type": "execute_result"
    }
   ],
   "source": [
    "data_filename = 'WCRWreplication.dta'\n",
    "data = pd.read_stata(data_filename)\n",
    "data.sample(2)"
   ]
  },
  {
   "cell_type": "markdown",
   "metadata": {
    "slideshow": {
     "slide_type": "slide"
    }
   },
   "source": [
    "## Question 1\n",
    "***\n",
    "### The first question provides:\n",
    "- a **plot** that shows the **frequency** of nonviolent and violent campaigns during the 20th century"
   ]
  },
  {
   "cell_type": "markdown",
   "metadata": {
    "slideshow": {
     "slide_type": "slide"
    }
   },
   "source": [
    "We extract the columns we need in order to create our plot. <br />\n",
    "\n",
    "**Note**: \n",
    "- _'t1, t2..'_ columns contain a dichotomous variable (0/1) whether the campaign occured during the 1st, 2nd, .. etc. decade of the 20th century <br />\n",
    "- A campaign belongs to a `t` decade based on the year the campaign ended. For example a campaign that ended on 1919 belongs to the `t2` decade (1910-1919)."
   ]
  },
  {
   "cell_type": "code",
   "execution_count": 3,
   "metadata": {
    "slideshow": {
     "slide_type": "fragment"
    }
   },
   "outputs": [
    {
     "data": {
      "text/html": [
       "<div>\n",
       "<style scoped>\n",
       "    .dataframe tbody tr th:only-of-type {\n",
       "        vertical-align: middle;\n",
       "    }\n",
       "\n",
       "    .dataframe tbody tr th {\n",
       "        vertical-align: top;\n",
       "    }\n",
       "\n",
       "    .dataframe thead th {\n",
       "        text-align: right;\n",
       "    }\n",
       "</style>\n",
       "<table border=\"1\" class=\"dataframe\">\n",
       "  <thead>\n",
       "    <tr style=\"text-align: right;\">\n",
       "      <th></th>\n",
       "      <th>location</th>\n",
       "      <th>campaign</th>\n",
       "      <th>eyear</th>\n",
       "      <th>viol</th>\n",
       "      <th>nonviol</th>\n",
       "      <th>success</th>\n",
       "      <th>t1</th>\n",
       "      <th>t2</th>\n",
       "      <th>t3</th>\n",
       "      <th>t4</th>\n",
       "      <th>t5</th>\n",
       "      <th>t6</th>\n",
       "      <th>t7</th>\n",
       "      <th>t8</th>\n",
       "      <th>t9</th>\n",
       "      <th>t10</th>\n",
       "      <th>t11</th>\n",
       "    </tr>\n",
       "  </thead>\n",
       "  <tbody>\n",
       "    <tr>\n",
       "      <th>0</th>\n",
       "      <td>Cuba</td>\n",
       "      <td>Cuban Revolution</td>\n",
       "      <td>1959</td>\n",
       "      <td>1</td>\n",
       "      <td>0</td>\n",
       "      <td>1</td>\n",
       "      <td>0.0</td>\n",
       "      <td>0.0</td>\n",
       "      <td>0.0</td>\n",
       "      <td>0.0</td>\n",
       "      <td>0.0</td>\n",
       "      <td>1.0</td>\n",
       "      <td>0.0</td>\n",
       "      <td>0.0</td>\n",
       "      <td>0.0</td>\n",
       "      <td>0.0</td>\n",
       "      <td>0.0</td>\n",
       "    </tr>\n",
       "    <tr>\n",
       "      <th>1</th>\n",
       "      <td>Haiti</td>\n",
       "      <td>Caco Revolt</td>\n",
       "      <td>1920</td>\n",
       "      <td>1</td>\n",
       "      <td>0</td>\n",
       "      <td>0</td>\n",
       "      <td>0.0</td>\n",
       "      <td>0.0</td>\n",
       "      <td>1.0</td>\n",
       "      <td>0.0</td>\n",
       "      <td>0.0</td>\n",
       "      <td>0.0</td>\n",
       "      <td>0.0</td>\n",
       "      <td>0.0</td>\n",
       "      <td>0.0</td>\n",
       "      <td>0.0</td>\n",
       "      <td>0.0</td>\n",
       "    </tr>\n",
       "    <tr>\n",
       "      <th>2</th>\n",
       "      <td>Haiti</td>\n",
       "      <td></td>\n",
       "      <td>1985</td>\n",
       "      <td>0</td>\n",
       "      <td>1</td>\n",
       "      <td>1</td>\n",
       "      <td>0.0</td>\n",
       "      <td>0.0</td>\n",
       "      <td>0.0</td>\n",
       "      <td>0.0</td>\n",
       "      <td>0.0</td>\n",
       "      <td>0.0</td>\n",
       "      <td>0.0</td>\n",
       "      <td>0.0</td>\n",
       "      <td>1.0</td>\n",
       "      <td>0.0</td>\n",
       "      <td>0.0</td>\n",
       "    </tr>\n",
       "    <tr>\n",
       "      <th>3</th>\n",
       "      <td>Dominican Republic</td>\n",
       "      <td>Dominican insurgency</td>\n",
       "      <td>1924</td>\n",
       "      <td>1</td>\n",
       "      <td>0</td>\n",
       "      <td>0</td>\n",
       "      <td>0.0</td>\n",
       "      <td>0.0</td>\n",
       "      <td>1.0</td>\n",
       "      <td>0.0</td>\n",
       "      <td>0.0</td>\n",
       "      <td>0.0</td>\n",
       "      <td>0.0</td>\n",
       "      <td>0.0</td>\n",
       "      <td>0.0</td>\n",
       "      <td>0.0</td>\n",
       "      <td>0.0</td>\n",
       "    </tr>\n",
       "    <tr>\n",
       "      <th>4</th>\n",
       "      <td>Dominican Republic</td>\n",
       "      <td>leftists</td>\n",
       "      <td>1965</td>\n",
       "      <td>1</td>\n",
       "      <td>0</td>\n",
       "      <td>0</td>\n",
       "      <td>0.0</td>\n",
       "      <td>0.0</td>\n",
       "      <td>0.0</td>\n",
       "      <td>0.0</td>\n",
       "      <td>0.0</td>\n",
       "      <td>0.0</td>\n",
       "      <td>1.0</td>\n",
       "      <td>0.0</td>\n",
       "      <td>0.0</td>\n",
       "      <td>0.0</td>\n",
       "      <td>0.0</td>\n",
       "    </tr>\n",
       "  </tbody>\n",
       "</table>\n",
       "</div>"
      ],
      "text/plain": [
       "             location              campaign  eyear  viol  nonviol  success  \\\n",
       "0                Cuba      Cuban Revolution   1959     1        0        1   \n",
       "1               Haiti           Caco Revolt   1920     1        0        0   \n",
       "2               Haiti                         1985     0        1        1   \n",
       "3  Dominican Republic  Dominican insurgency   1924     1        0        0   \n",
       "4  Dominican Republic              leftists   1965     1        0        0   \n",
       "\n",
       "    t1   t2   t3   t4   t5   t6   t7   t8   t9  t10  t11  \n",
       "0  0.0  0.0  0.0  0.0  0.0  1.0  0.0  0.0  0.0  0.0  0.0  \n",
       "1  0.0  0.0  1.0  0.0  0.0  0.0  0.0  0.0  0.0  0.0  0.0  \n",
       "2  0.0  0.0  0.0  0.0  0.0  0.0  0.0  0.0  1.0  0.0  0.0  \n",
       "3  0.0  0.0  1.0  0.0  0.0  0.0  0.0  0.0  0.0  0.0  0.0  \n",
       "4  0.0  0.0  0.0  0.0  0.0  0.0  1.0  0.0  0.0  0.0  0.0  "
      ]
     },
     "execution_count": 3,
     "metadata": {},
     "output_type": "execute_result"
    }
   ],
   "source": [
    "viol_nonviol = data[[\"location\", \"campaign\", \"eyear\", \n",
    "                     \"viol\", \"nonviol\", \"success\", \n",
    "                     \"t1\", \"t2\", \"t3\", \"t4\", \"t5\", \n",
    "                     \"t6\", \"t7\", \"t8\", \"t9\", \"t10\", \"t11\"]]\n",
    "viol_nonviol.head()"
   ]
  },
  {
   "cell_type": "markdown",
   "metadata": {
    "slideshow": {
     "slide_type": "slide"
    }
   },
   "source": [
    "In order to **separate the violent from the nonviolent** campaigns we select the records whose `viol` column is equal to 1. The _viol_ dataframe now contains all the violent campaigns. We create a view of our data sorted by end year in order to take a look at the frequency the first years of the 20th century."
   ]
  },
  {
   "cell_type": "code",
   "execution_count": 4,
   "metadata": {
    "slideshow": {
     "slide_type": "fragment"
    }
   },
   "outputs": [
    {
     "data": {
      "text/html": [
       "<div>\n",
       "<style scoped>\n",
       "    .dataframe tbody tr th:only-of-type {\n",
       "        vertical-align: middle;\n",
       "    }\n",
       "\n",
       "    .dataframe tbody tr th {\n",
       "        vertical-align: top;\n",
       "    }\n",
       "\n",
       "    .dataframe thead th {\n",
       "        text-align: right;\n",
       "    }\n",
       "</style>\n",
       "<table border=\"1\" class=\"dataframe\">\n",
       "  <thead>\n",
       "    <tr style=\"text-align: right;\">\n",
       "      <th></th>\n",
       "      <th>location</th>\n",
       "      <th>campaign</th>\n",
       "      <th>eyear</th>\n",
       "      <th>viol</th>\n",
       "      <th>nonviol</th>\n",
       "      <th>success</th>\n",
       "      <th>t1</th>\n",
       "      <th>t2</th>\n",
       "      <th>t3</th>\n",
       "      <th>t4</th>\n",
       "      <th>t5</th>\n",
       "      <th>t6</th>\n",
       "      <th>t7</th>\n",
       "      <th>t8</th>\n",
       "      <th>t9</th>\n",
       "      <th>t10</th>\n",
       "      <th>t11</th>\n",
       "    </tr>\n",
       "  </thead>\n",
       "  <tbody>\n",
       "    <tr>\n",
       "      <th>306</th>\n",
       "      <td>Philippines</td>\n",
       "      <td>Filipino nationalists</td>\n",
       "      <td>1902</td>\n",
       "      <td>1</td>\n",
       "      <td>0</td>\n",
       "      <td>0</td>\n",
       "      <td>1.0</td>\n",
       "      <td>0.0</td>\n",
       "      <td>0.0</td>\n",
       "      <td>0.0</td>\n",
       "      <td>0.0</td>\n",
       "      <td>0.0</td>\n",
       "      <td>0.0</td>\n",
       "      <td>0.0</td>\n",
       "      <td>0.0</td>\n",
       "      <td>0.0</td>\n",
       "      <td>0.0</td>\n",
       "    </tr>\n",
       "    <tr>\n",
       "      <th>183</th>\n",
       "      <td>South Africa</td>\n",
       "      <td>Boer separatists</td>\n",
       "      <td>1902</td>\n",
       "      <td>1</td>\n",
       "      <td>0</td>\n",
       "      <td>0</td>\n",
       "      <td>1.0</td>\n",
       "      <td>0.0</td>\n",
       "      <td>0.0</td>\n",
       "      <td>0.0</td>\n",
       "      <td>0.0</td>\n",
       "      <td>0.0</td>\n",
       "      <td>0.0</td>\n",
       "      <td>0.0</td>\n",
       "      <td>0.0</td>\n",
       "      <td>0.0</td>\n",
       "      <td>0.0</td>\n",
       "    </tr>\n",
       "    <tr>\n",
       "      <th>209</th>\n",
       "      <td>Ottoman Empire</td>\n",
       "      <td>VMRO Rebels (Macedonians) in Ilinden uprising</td>\n",
       "      <td>1903</td>\n",
       "      <td>1</td>\n",
       "      <td>0</td>\n",
       "      <td>0</td>\n",
       "      <td>1.0</td>\n",
       "      <td>0.0</td>\n",
       "      <td>0.0</td>\n",
       "      <td>0.0</td>\n",
       "      <td>0.0</td>\n",
       "      <td>0.0</td>\n",
       "      <td>0.0</td>\n",
       "      <td>0.0</td>\n",
       "      <td>0.0</td>\n",
       "      <td>0.0</td>\n",
       "      <td>0.0</td>\n",
       "    </tr>\n",
       "    <tr>\n",
       "      <th>28</th>\n",
       "      <td>Venezuela</td>\n",
       "      <td>La Revolución Libertador</td>\n",
       "      <td>1903</td>\n",
       "      <td>1</td>\n",
       "      <td>0</td>\n",
       "      <td>0</td>\n",
       "      <td>1.0</td>\n",
       "      <td>0.0</td>\n",
       "      <td>0.0</td>\n",
       "      <td>0.0</td>\n",
       "      <td>0.0</td>\n",
       "      <td>0.0</td>\n",
       "      <td>0.0</td>\n",
       "      <td>0.0</td>\n",
       "      <td>0.0</td>\n",
       "      <td>0.0</td>\n",
       "      <td>0.0</td>\n",
       "    </tr>\n",
       "    <tr>\n",
       "      <th>39</th>\n",
       "      <td>Bolivia</td>\n",
       "      <td>Acre rebellion</td>\n",
       "      <td>1903</td>\n",
       "      <td>1</td>\n",
       "      <td>0</td>\n",
       "      <td>0</td>\n",
       "      <td>1.0</td>\n",
       "      <td>0.0</td>\n",
       "      <td>0.0</td>\n",
       "      <td>0.0</td>\n",
       "      <td>0.0</td>\n",
       "      <td>0.0</td>\n",
       "      <td>0.0</td>\n",
       "      <td>0.0</td>\n",
       "      <td>0.0</td>\n",
       "      <td>0.0</td>\n",
       "      <td>0.0</td>\n",
       "    </tr>\n",
       "  </tbody>\n",
       "</table>\n",
       "</div>"
      ],
      "text/plain": [
       "           location                                       campaign  eyear  \\\n",
       "306     Philippines                          Filipino nationalists   1902   \n",
       "183    South Africa                               Boer separatists   1902   \n",
       "209  Ottoman Empire  VMRO Rebels (Macedonians) in Ilinden uprising   1903   \n",
       "28        Venezuela                       La Revolución Libertador   1903   \n",
       "39          Bolivia                                 Acre rebellion   1903   \n",
       "\n",
       "     viol  nonviol  success   t1   t2   t3   t4   t5   t6   t7   t8   t9  t10  \\\n",
       "306     1        0        0  1.0  0.0  0.0  0.0  0.0  0.0  0.0  0.0  0.0  0.0   \n",
       "183     1        0        0  1.0  0.0  0.0  0.0  0.0  0.0  0.0  0.0  0.0  0.0   \n",
       "209     1        0        0  1.0  0.0  0.0  0.0  0.0  0.0  0.0  0.0  0.0  0.0   \n",
       "28      1        0        0  1.0  0.0  0.0  0.0  0.0  0.0  0.0  0.0  0.0  0.0   \n",
       "39      1        0        0  1.0  0.0  0.0  0.0  0.0  0.0  0.0  0.0  0.0  0.0   \n",
       "\n",
       "     t11  \n",
       "306  0.0  \n",
       "183  0.0  \n",
       "209  0.0  \n",
       "28   0.0  \n",
       "39   0.0  "
      ]
     },
     "execution_count": 4,
     "metadata": {},
     "output_type": "execute_result"
    }
   ],
   "source": [
    "viol = viol_nonviol.loc[viol_nonviol.viol == 1]\n",
    "viol.sort_values(by='eyear').head()"
   ]
  },
  {
   "cell_type": "markdown",
   "metadata": {
    "slideshow": {
     "slide_type": "slide"
    }
   },
   "source": [
    "Afterwards, we need to find the total number of violent campaigns that occured in each decade. In order to select only the columns that are related to the decades and avoid writing 11 times the same command, we use the `.filter(regex)` command which selects the data we need based on the regex given. <br />\n",
    "The sum of each column gives us the **frequency of violent campaigns for each decade**."
   ]
  },
  {
   "cell_type": "code",
   "execution_count": 5,
   "metadata": {
    "slideshow": {
     "slide_type": "fragment"
    }
   },
   "outputs": [
    {
     "data": {
      "text/html": [
       "<div>\n",
       "<style scoped>\n",
       "    .dataframe tbody tr th:only-of-type {\n",
       "        vertical-align: middle;\n",
       "    }\n",
       "\n",
       "    .dataframe tbody tr th {\n",
       "        vertical-align: top;\n",
       "    }\n",
       "\n",
       "    .dataframe thead th {\n",
       "        text-align: right;\n",
       "    }\n",
       "</style>\n",
       "<table border=\"1\" class=\"dataframe\">\n",
       "  <thead>\n",
       "    <tr style=\"text-align: right;\">\n",
       "      <th></th>\n",
       "      <th>Violent</th>\n",
       "    </tr>\n",
       "  </thead>\n",
       "  <tbody>\n",
       "    <tr>\n",
       "      <th>t1</th>\n",
       "      <td>14</td>\n",
       "    </tr>\n",
       "    <tr>\n",
       "      <th>t2</th>\n",
       "      <td>8</td>\n",
       "    </tr>\n",
       "    <tr>\n",
       "      <th>t3</th>\n",
       "      <td>18</td>\n",
       "    </tr>\n",
       "    <tr>\n",
       "      <th>t4</th>\n",
       "      <td>14</td>\n",
       "    </tr>\n",
       "    <tr>\n",
       "      <th>t5</th>\n",
       "      <td>21</td>\n",
       "    </tr>\n",
       "    <tr>\n",
       "      <th>t6</th>\n",
       "      <td>19</td>\n",
       "    </tr>\n",
       "    <tr>\n",
       "      <th>t7</th>\n",
       "      <td>17</td>\n",
       "    </tr>\n",
       "    <tr>\n",
       "      <th>t8</th>\n",
       "      <td>26</td>\n",
       "    </tr>\n",
       "    <tr>\n",
       "      <th>t9</th>\n",
       "      <td>13</td>\n",
       "    </tr>\n",
       "    <tr>\n",
       "      <th>t10</th>\n",
       "      <td>45</td>\n",
       "    </tr>\n",
       "    <tr>\n",
       "      <th>t11</th>\n",
       "      <td>22</td>\n",
       "    </tr>\n",
       "  </tbody>\n",
       "</table>\n",
       "</div>"
      ],
      "text/plain": [
       "     Violent\n",
       "t1        14\n",
       "t2         8\n",
       "t3        18\n",
       "t4        14\n",
       "t5        21\n",
       "t6        19\n",
       "t7        17\n",
       "t8        26\n",
       "t9        13\n",
       "t10       45\n",
       "t11       22"
      ]
     },
     "execution_count": 5,
     "metadata": {},
     "output_type": "execute_result"
    }
   ],
   "source": [
    "viol_decades = viol.filter(regex=(\"t.*\"))\n",
    "del viol_decades['location']\n",
    "v_freq = pd.DataFrame(viol_decades.sum(axis=0).astype(int), columns = ['Violent'])\n",
    "v_freq"
   ]
  },
  {
   "cell_type": "markdown",
   "metadata": {
    "slideshow": {
     "slide_type": "slide"
    }
   },
   "source": [
    "We follow exactly the same path to find the **frequency of nonviolent campaigns for each decade**."
   ]
  },
  {
   "cell_type": "code",
   "execution_count": 6,
   "metadata": {
    "slideshow": {
     "slide_type": "fragment"
    }
   },
   "outputs": [
    {
     "data": {
      "text/html": [
       "<div>\n",
       "<style scoped>\n",
       "    .dataframe tbody tr th:only-of-type {\n",
       "        vertical-align: middle;\n",
       "    }\n",
       "\n",
       "    .dataframe tbody tr th {\n",
       "        vertical-align: top;\n",
       "    }\n",
       "\n",
       "    .dataframe thead th {\n",
       "        text-align: right;\n",
       "    }\n",
       "</style>\n",
       "<table border=\"1\" class=\"dataframe\">\n",
       "  <thead>\n",
       "    <tr style=\"text-align: right;\">\n",
       "      <th></th>\n",
       "      <th>location</th>\n",
       "      <th>campaign</th>\n",
       "      <th>eyear</th>\n",
       "      <th>viol</th>\n",
       "      <th>nonviol</th>\n",
       "      <th>success</th>\n",
       "      <th>t1</th>\n",
       "      <th>t2</th>\n",
       "      <th>t3</th>\n",
       "      <th>t4</th>\n",
       "      <th>t5</th>\n",
       "      <th>t6</th>\n",
       "      <th>t7</th>\n",
       "      <th>t8</th>\n",
       "      <th>t9</th>\n",
       "      <th>t10</th>\n",
       "      <th>t11</th>\n",
       "    </tr>\n",
       "  </thead>\n",
       "  <tbody>\n",
       "    <tr>\n",
       "      <th>254</th>\n",
       "      <td>China</td>\n",
       "      <td>May the Fourth Movement</td>\n",
       "      <td>1919</td>\n",
       "      <td>0</td>\n",
       "      <td>1</td>\n",
       "      <td>0</td>\n",
       "      <td>0.0</td>\n",
       "      <td>1.0</td>\n",
       "      <td>0.0</td>\n",
       "      <td>0.0</td>\n",
       "      <td>0.0</td>\n",
       "      <td>0.0</td>\n",
       "      <td>0.0</td>\n",
       "      <td>0.0</td>\n",
       "      <td>0.0</td>\n",
       "      <td>0.0</td>\n",
       "      <td>0.0</td>\n",
       "    </tr>\n",
       "    <tr>\n",
       "      <th>62</th>\n",
       "      <td>Germany</td>\n",
       "      <td>Ruhrkampf resistance</td>\n",
       "      <td>1923</td>\n",
       "      <td>0</td>\n",
       "      <td>1</td>\n",
       "      <td>1</td>\n",
       "      <td>0.0</td>\n",
       "      <td>0.0</td>\n",
       "      <td>1.0</td>\n",
       "      <td>0.0</td>\n",
       "      <td>0.0</td>\n",
       "      <td>0.0</td>\n",
       "      <td>0.0</td>\n",
       "      <td>0.0</td>\n",
       "      <td>0.0</td>\n",
       "      <td>0.0</td>\n",
       "      <td>0.0</td>\n",
       "    </tr>\n",
       "    <tr>\n",
       "      <th>43</th>\n",
       "      <td>Chile</td>\n",
       "      <td></td>\n",
       "      <td>1931</td>\n",
       "      <td>0</td>\n",
       "      <td>1</td>\n",
       "      <td>1</td>\n",
       "      <td>0.0</td>\n",
       "      <td>0.0</td>\n",
       "      <td>0.0</td>\n",
       "      <td>1.0</td>\n",
       "      <td>0.0</td>\n",
       "      <td>0.0</td>\n",
       "      <td>0.0</td>\n",
       "      <td>0.0</td>\n",
       "      <td>0.0</td>\n",
       "      <td>0.0</td>\n",
       "      <td>0.0</td>\n",
       "    </tr>\n",
       "    <tr>\n",
       "      <th>121</th>\n",
       "      <td>Denmark</td>\n",
       "      <td></td>\n",
       "      <td>1944</td>\n",
       "      <td>0</td>\n",
       "      <td>1</td>\n",
       "      <td>0</td>\n",
       "      <td>0.0</td>\n",
       "      <td>0.0</td>\n",
       "      <td>0.0</td>\n",
       "      <td>0.0</td>\n",
       "      <td>1.0</td>\n",
       "      <td>0.0</td>\n",
       "      <td>0.0</td>\n",
       "      <td>0.0</td>\n",
       "      <td>0.0</td>\n",
       "      <td>0.0</td>\n",
       "      <td>0.0</td>\n",
       "    </tr>\n",
       "    <tr>\n",
       "      <th>120</th>\n",
       "      <td>Norway</td>\n",
       "      <td></td>\n",
       "      <td>1944</td>\n",
       "      <td>0</td>\n",
       "      <td>1</td>\n",
       "      <td>0</td>\n",
       "      <td>0.0</td>\n",
       "      <td>0.0</td>\n",
       "      <td>0.0</td>\n",
       "      <td>0.0</td>\n",
       "      <td>1.0</td>\n",
       "      <td>0.0</td>\n",
       "      <td>0.0</td>\n",
       "      <td>0.0</td>\n",
       "      <td>0.0</td>\n",
       "      <td>0.0</td>\n",
       "      <td>0.0</td>\n",
       "    </tr>\n",
       "    <tr>\n",
       "      <th>11</th>\n",
       "      <td>Guatemala</td>\n",
       "      <td>October Revolutionaries</td>\n",
       "      <td>1944</td>\n",
       "      <td>0</td>\n",
       "      <td>1</td>\n",
       "      <td>1</td>\n",
       "      <td>0.0</td>\n",
       "      <td>0.0</td>\n",
       "      <td>0.0</td>\n",
       "      <td>0.0</td>\n",
       "      <td>1.0</td>\n",
       "      <td>0.0</td>\n",
       "      <td>0.0</td>\n",
       "      <td>0.0</td>\n",
       "      <td>0.0</td>\n",
       "      <td>0.0</td>\n",
       "      <td>0.0</td>\n",
       "    </tr>\n",
       "    <tr>\n",
       "      <th>17</th>\n",
       "      <td>El Salvador</td>\n",
       "      <td>Strike of Fallen Arms</td>\n",
       "      <td>1944</td>\n",
       "      <td>0</td>\n",
       "      <td>1</td>\n",
       "      <td>1</td>\n",
       "      <td>0.0</td>\n",
       "      <td>0.0</td>\n",
       "      <td>0.0</td>\n",
       "      <td>0.0</td>\n",
       "      <td>1.0</td>\n",
       "      <td>0.0</td>\n",
       "      <td>0.0</td>\n",
       "      <td>0.0</td>\n",
       "      <td>0.0</td>\n",
       "      <td>0.0</td>\n",
       "      <td>0.0</td>\n",
       "    </tr>\n",
       "    <tr>\n",
       "      <th>271</th>\n",
       "      <td>India</td>\n",
       "      <td></td>\n",
       "      <td>1945</td>\n",
       "      <td>0</td>\n",
       "      <td>1</td>\n",
       "      <td>0</td>\n",
       "      <td>0.0</td>\n",
       "      <td>0.0</td>\n",
       "      <td>0.0</td>\n",
       "      <td>0.0</td>\n",
       "      <td>1.0</td>\n",
       "      <td>0.0</td>\n",
       "      <td>0.0</td>\n",
       "      <td>0.0</td>\n",
       "      <td>0.0</td>\n",
       "      <td>0.0</td>\n",
       "      <td>0.0</td>\n",
       "    </tr>\n",
       "    <tr>\n",
       "      <th>137</th>\n",
       "      <td>Nigeria</td>\n",
       "      <td>Independence Movement</td>\n",
       "      <td>1950</td>\n",
       "      <td>0</td>\n",
       "      <td>1</td>\n",
       "      <td>0</td>\n",
       "      <td>0.0</td>\n",
       "      <td>0.0</td>\n",
       "      <td>0.0</td>\n",
       "      <td>0.0</td>\n",
       "      <td>0.0</td>\n",
       "      <td>1.0</td>\n",
       "      <td>0.0</td>\n",
       "      <td>0.0</td>\n",
       "      <td>0.0</td>\n",
       "      <td>0.0</td>\n",
       "      <td>0.0</td>\n",
       "    </tr>\n",
       "    <tr>\n",
       "      <th>63</th>\n",
       "      <td>East Germany</td>\n",
       "      <td></td>\n",
       "      <td>1953</td>\n",
       "      <td>0</td>\n",
       "      <td>1</td>\n",
       "      <td>0</td>\n",
       "      <td>0.0</td>\n",
       "      <td>0.0</td>\n",
       "      <td>0.0</td>\n",
       "      <td>0.0</td>\n",
       "      <td>0.0</td>\n",
       "      <td>1.0</td>\n",
       "      <td>0.0</td>\n",
       "      <td>0.0</td>\n",
       "      <td>0.0</td>\n",
       "      <td>0.0</td>\n",
       "      <td>0.0</td>\n",
       "    </tr>\n",
       "  </tbody>\n",
       "</table>\n",
       "</div>"
      ],
      "text/plain": [
       "         location                 campaign  eyear  viol  nonviol  success  \\\n",
       "254         China  May the Fourth Movement   1919     0        1        0   \n",
       "62        Germany     Ruhrkampf resistance   1923     0        1        1   \n",
       "43          Chile                            1931     0        1        1   \n",
       "121       Denmark                            1944     0        1        0   \n",
       "120        Norway                            1944     0        1        0   \n",
       "11      Guatemala  October Revolutionaries   1944     0        1        1   \n",
       "17    El Salvador    Strike of Fallen Arms   1944     0        1        1   \n",
       "271         India                            1945     0        1        0   \n",
       "137       Nigeria    Independence Movement   1950     0        1        0   \n",
       "63   East Germany                            1953     0        1        0   \n",
       "\n",
       "      t1   t2   t3   t4   t5   t6   t7   t8   t9  t10  t11  \n",
       "254  0.0  1.0  0.0  0.0  0.0  0.0  0.0  0.0  0.0  0.0  0.0  \n",
       "62   0.0  0.0  1.0  0.0  0.0  0.0  0.0  0.0  0.0  0.0  0.0  \n",
       "43   0.0  0.0  0.0  1.0  0.0  0.0  0.0  0.0  0.0  0.0  0.0  \n",
       "121  0.0  0.0  0.0  0.0  1.0  0.0  0.0  0.0  0.0  0.0  0.0  \n",
       "120  0.0  0.0  0.0  0.0  1.0  0.0  0.0  0.0  0.0  0.0  0.0  \n",
       "11   0.0  0.0  0.0  0.0  1.0  0.0  0.0  0.0  0.0  0.0  0.0  \n",
       "17   0.0  0.0  0.0  0.0  1.0  0.0  0.0  0.0  0.0  0.0  0.0  \n",
       "271  0.0  0.0  0.0  0.0  1.0  0.0  0.0  0.0  0.0  0.0  0.0  \n",
       "137  0.0  0.0  0.0  0.0  0.0  1.0  0.0  0.0  0.0  0.0  0.0  \n",
       "63   0.0  0.0  0.0  0.0  0.0  1.0  0.0  0.0  0.0  0.0  0.0  "
      ]
     },
     "execution_count": 6,
     "metadata": {},
     "output_type": "execute_result"
    }
   ],
   "source": [
    "nonviol = viol_nonviol.loc[viol_nonviol.nonviol == 1]\n",
    "nonviol.sort_values(by='eyear').head(10)"
   ]
  },
  {
   "cell_type": "markdown",
   "metadata": {
    "slideshow": {
     "slide_type": "slide"
    }
   },
   "source": [
    "`filter(regex)` again in order to calculate the frequency."
   ]
  },
  {
   "cell_type": "code",
   "execution_count": 7,
   "metadata": {
    "slideshow": {
     "slide_type": "fragment"
    }
   },
   "outputs": [
    {
     "data": {
      "text/html": [
       "<div>\n",
       "<style scoped>\n",
       "    .dataframe tbody tr th:only-of-type {\n",
       "        vertical-align: middle;\n",
       "    }\n",
       "\n",
       "    .dataframe tbody tr th {\n",
       "        vertical-align: top;\n",
       "    }\n",
       "\n",
       "    .dataframe thead th {\n",
       "        text-align: right;\n",
       "    }\n",
       "</style>\n",
       "<table border=\"1\" class=\"dataframe\">\n",
       "  <thead>\n",
       "    <tr style=\"text-align: right;\">\n",
       "      <th></th>\n",
       "      <th>Nonviolent</th>\n",
       "    </tr>\n",
       "  </thead>\n",
       "  <tbody>\n",
       "    <tr>\n",
       "      <th>t1</th>\n",
       "      <td>0</td>\n",
       "    </tr>\n",
       "    <tr>\n",
       "      <th>t2</th>\n",
       "      <td>1</td>\n",
       "    </tr>\n",
       "    <tr>\n",
       "      <th>t3</th>\n",
       "      <td>1</td>\n",
       "    </tr>\n",
       "    <tr>\n",
       "      <th>t4</th>\n",
       "      <td>1</td>\n",
       "    </tr>\n",
       "    <tr>\n",
       "      <th>t5</th>\n",
       "      <td>5</td>\n",
       "    </tr>\n",
       "    <tr>\n",
       "      <th>t6</th>\n",
       "      <td>9</td>\n",
       "    </tr>\n",
       "    <tr>\n",
       "      <th>t7</th>\n",
       "      <td>7</td>\n",
       "    </tr>\n",
       "    <tr>\n",
       "      <th>t8</th>\n",
       "      <td>7</td>\n",
       "    </tr>\n",
       "    <tr>\n",
       "      <th>t9</th>\n",
       "      <td>32</td>\n",
       "    </tr>\n",
       "    <tr>\n",
       "      <th>t10</th>\n",
       "      <td>23</td>\n",
       "    </tr>\n",
       "    <tr>\n",
       "      <th>t11</th>\n",
       "      <td>20</td>\n",
       "    </tr>\n",
       "  </tbody>\n",
       "</table>\n",
       "</div>"
      ],
      "text/plain": [
       "     Nonviolent\n",
       "t1            0\n",
       "t2            1\n",
       "t3            1\n",
       "t4            1\n",
       "t5            5\n",
       "t6            9\n",
       "t7            7\n",
       "t8            7\n",
       "t9           32\n",
       "t10          23\n",
       "t11          20"
      ]
     },
     "execution_count": 7,
     "metadata": {},
     "output_type": "execute_result"
    }
   ],
   "source": [
    "nonviol_decades = nonviol.filter(regex='t.*')\n",
    "del nonviol_decades['location']\n",
    "nonv_freq = pd.DataFrame(nonviol_decades.sum(axis=0).astype(int), columns = ['Nonviolent'])\n",
    "nonv_freq"
   ]
  },
  {
   "cell_type": "markdown",
   "metadata": {
    "slideshow": {
     "slide_type": "slide"
    }
   },
   "source": [
    "It's easier to compare the results to each other if we have a single dataframe that shows clearly the violent and nonviolent campaigns for each decade. Thus, we merge the two dataframes, that resulted from the calculations we did, based on their index. We also rename the index in order to better understand with which decade every frequency is associated."
   ]
  },
  {
   "cell_type": "code",
   "execution_count": 8,
   "metadata": {
    "slideshow": {
     "slide_type": "fragment"
    }
   },
   "outputs": [
    {
     "data": {
      "text/html": [
       "<div>\n",
       "<style scoped>\n",
       "    .dataframe tbody tr th:only-of-type {\n",
       "        vertical-align: middle;\n",
       "    }\n",
       "\n",
       "    .dataframe tbody tr th {\n",
       "        vertical-align: top;\n",
       "    }\n",
       "\n",
       "    .dataframe thead th {\n",
       "        text-align: right;\n",
       "    }\n",
       "</style>\n",
       "<table border=\"1\" class=\"dataframe\">\n",
       "  <thead>\n",
       "    <tr style=\"text-align: right;\">\n",
       "      <th></th>\n",
       "      <th>Violent</th>\n",
       "      <th>Nonviolent</th>\n",
       "    </tr>\n",
       "  </thead>\n",
       "  <tbody>\n",
       "    <tr>\n",
       "      <th>1900</th>\n",
       "      <td>14</td>\n",
       "      <td>0</td>\n",
       "    </tr>\n",
       "    <tr>\n",
       "      <th>1910</th>\n",
       "      <td>8</td>\n",
       "      <td>1</td>\n",
       "    </tr>\n",
       "    <tr>\n",
       "      <th>1920</th>\n",
       "      <td>18</td>\n",
       "      <td>1</td>\n",
       "    </tr>\n",
       "    <tr>\n",
       "      <th>1930</th>\n",
       "      <td>14</td>\n",
       "      <td>1</td>\n",
       "    </tr>\n",
       "    <tr>\n",
       "      <th>1940</th>\n",
       "      <td>21</td>\n",
       "      <td>5</td>\n",
       "    </tr>\n",
       "    <tr>\n",
       "      <th>1950</th>\n",
       "      <td>19</td>\n",
       "      <td>9</td>\n",
       "    </tr>\n",
       "    <tr>\n",
       "      <th>1960</th>\n",
       "      <td>17</td>\n",
       "      <td>7</td>\n",
       "    </tr>\n",
       "    <tr>\n",
       "      <th>1970</th>\n",
       "      <td>26</td>\n",
       "      <td>7</td>\n",
       "    </tr>\n",
       "    <tr>\n",
       "      <th>1980</th>\n",
       "      <td>13</td>\n",
       "      <td>32</td>\n",
       "    </tr>\n",
       "    <tr>\n",
       "      <th>1990</th>\n",
       "      <td>45</td>\n",
       "      <td>23</td>\n",
       "    </tr>\n",
       "    <tr>\n",
       "      <th>2000</th>\n",
       "      <td>22</td>\n",
       "      <td>20</td>\n",
       "    </tr>\n",
       "  </tbody>\n",
       "</table>\n",
       "</div>"
      ],
      "text/plain": [
       "      Violent  Nonviolent\n",
       "1900       14           0\n",
       "1910        8           1\n",
       "1920       18           1\n",
       "1930       14           1\n",
       "1940       21           5\n",
       "1950       19           9\n",
       "1960       17           7\n",
       "1970       26           7\n",
       "1980       13          32\n",
       "1990       45          23\n",
       "2000       22          20"
      ]
     },
     "execution_count": 8,
     "metadata": {},
     "output_type": "execute_result"
    }
   ],
   "source": [
    "vnonv_freq = v_freq.merge(nonv_freq, left_index=True, right_index=True)\n",
    "vnonv_freq.rename(index = {\"t1\":'1900', \"t2\":'1910', \"t3\":'1920', \"t4\":'1930', \"t5\":'1940',\n",
    "                           \"t6\":'1950', \"t7\":'1960', \"t8\":\"1970\", \"t9\":'1980', \"t10\":'1990',\n",
    "                           \"t11\":'2000'}, inplace=True)\n",
    "vnonv_freq"
   ]
  },
  {
   "cell_type": "markdown",
   "metadata": {
    "slideshow": {
     "slide_type": "slide"
    }
   },
   "source": [
    "It's time to create our **plot** and show the frequency of violent and nonviolent campaigns for each decade during the 20th century. The results we plot are stacked."
   ]
  },
  {
   "cell_type": "code",
   "execution_count": 9,
   "metadata": {
    "scrolled": false,
    "slideshow": {
     "slide_type": "fragment"
    }
   },
   "outputs": [
    {
     "data": {
      "image/png": "[encoded data removed]",
      "text/plain": [
       "<Figure size 1224x648 with 1 Axes>"
      ]
     },
     "metadata": {
      "needs_background": "light"
     },
     "output_type": "display_data"
    }
   ],
   "source": [
    "fig, ax = plt.subplots()\n",
    "vnonv_freq.plot.area(ax=ax, color=['royalblue', 'darkorange'], figsize=(17,9))\n",
    "ax.set_xlabel('Decade', size=13)\n",
    "ax.set_ylabel('Campaigns', size=13)\n",
    "ax.grid()\n",
    "ax.set_axisbelow(True)"
   ]
  },
  {
   "cell_type": "markdown",
   "metadata": {
    "slideshow": {
     "slide_type": "slide"
    }
   },
   "source": [
    "### Peak in the 90's\n",
    "As far as we can see from the plot, in the 90's there is a phenomenal augmentation, which has no other comparable to another during the rest of the 20th century. This period is characterized by many cultural alterations, such as the boost of multicultural societies and the insertion of alternative media in people's life due to technology's advance. Other than that, the collapse of the Soviet Union and the attenuation of communism accross the world, the political shift to mostly right-wing politics leaded to a more scepticistic attitude over the governances, more campaigns supporting people's right and humanitarian issues. The people started to redetermine and reeastablish the economic and political ascendancy globally."
   ]
  },
  {
   "cell_type": "markdown",
   "metadata": {
    "slideshow": {
     "slide_type": "slide"
    }
   },
   "source": [
    "## Question 2\n",
    "***\n",
    "### The second question presents:\n",
    "- a plot, for each decade from 1940 onwards, that shows the number of nonviolent campaigns and the percentage of success."
   ]
  },
  {
   "cell_type": "markdown",
   "metadata": {
    "slideshow": {
     "slide_type": "slide"
    }
   },
   "source": [
    "We use the `nonviol` dataframe we created before that contains the nonviolent campaigns, in order to extract those that occured after 1940 (including 1940) and were succesful. <br />\n",
    "\n",
    "**Note:** \n",
    "Column `success` contains 0 if a campaign failed, or 1 if it succeded."
   ]
  },
  {
   "cell_type": "code",
   "execution_count": 10,
   "metadata": {
    "scrolled": false,
    "slideshow": {
     "slide_type": "fragment"
    }
   },
   "outputs": [
    {
     "data": {
      "text/html": [
       "<div>\n",
       "<style scoped>\n",
       "    .dataframe tbody tr th:only-of-type {\n",
       "        vertical-align: middle;\n",
       "    }\n",
       "\n",
       "    .dataframe tbody tr th {\n",
       "        vertical-align: top;\n",
       "    }\n",
       "\n",
       "    .dataframe thead th {\n",
       "        text-align: right;\n",
       "    }\n",
       "</style>\n",
       "<table border=\"1\" class=\"dataframe\">\n",
       "  <thead>\n",
       "    <tr style=\"text-align: right;\">\n",
       "      <th></th>\n",
       "      <th>location</th>\n",
       "      <th>campaign</th>\n",
       "      <th>eyear</th>\n",
       "      <th>viol</th>\n",
       "      <th>nonviol</th>\n",
       "      <th>success</th>\n",
       "      <th>t1</th>\n",
       "      <th>t2</th>\n",
       "      <th>t3</th>\n",
       "      <th>t4</th>\n",
       "      <th>t5</th>\n",
       "      <th>t6</th>\n",
       "      <th>t7</th>\n",
       "      <th>t8</th>\n",
       "      <th>t9</th>\n",
       "      <th>t10</th>\n",
       "      <th>t11</th>\n",
       "    </tr>\n",
       "  </thead>\n",
       "  <tbody>\n",
       "    <tr>\n",
       "      <th>2</th>\n",
       "      <td>Haiti</td>\n",
       "      <td></td>\n",
       "      <td>1985</td>\n",
       "      <td>0</td>\n",
       "      <td>1</td>\n",
       "      <td>1</td>\n",
       "      <td>0.0</td>\n",
       "      <td>0.0</td>\n",
       "      <td>0.0</td>\n",
       "      <td>0.0</td>\n",
       "      <td>0.0</td>\n",
       "      <td>0.0</td>\n",
       "      <td>0.0</td>\n",
       "      <td>0.0</td>\n",
       "      <td>1.0</td>\n",
       "      <td>0.0</td>\n",
       "      <td>0.0</td>\n",
       "    </tr>\n",
       "    <tr>\n",
       "      <th>9</th>\n",
       "      <td>Mexico</td>\n",
       "      <td></td>\n",
       "      <td>2000</td>\n",
       "      <td>0</td>\n",
       "      <td>1</td>\n",
       "      <td>1</td>\n",
       "      <td>0.0</td>\n",
       "      <td>0.0</td>\n",
       "      <td>0.0</td>\n",
       "      <td>0.0</td>\n",
       "      <td>0.0</td>\n",
       "      <td>0.0</td>\n",
       "      <td>0.0</td>\n",
       "      <td>0.0</td>\n",
       "      <td>0.0</td>\n",
       "      <td>0.0</td>\n",
       "      <td>1.0</td>\n",
       "    </tr>\n",
       "    <tr>\n",
       "      <th>11</th>\n",
       "      <td>Guatemala</td>\n",
       "      <td>October Revolutionaries</td>\n",
       "      <td>1944</td>\n",
       "      <td>0</td>\n",
       "      <td>1</td>\n",
       "      <td>1</td>\n",
       "      <td>0.0</td>\n",
       "      <td>0.0</td>\n",
       "      <td>0.0</td>\n",
       "      <td>0.0</td>\n",
       "      <td>1.0</td>\n",
       "      <td>0.0</td>\n",
       "      <td>0.0</td>\n",
       "      <td>0.0</td>\n",
       "      <td>0.0</td>\n",
       "      <td>0.0</td>\n",
       "      <td>0.0</td>\n",
       "    </tr>\n",
       "    <tr>\n",
       "      <th>17</th>\n",
       "      <td>El Salvador</td>\n",
       "      <td>Strike of Fallen Arms</td>\n",
       "      <td>1944</td>\n",
       "      <td>0</td>\n",
       "      <td>1</td>\n",
       "      <td>1</td>\n",
       "      <td>0.0</td>\n",
       "      <td>0.0</td>\n",
       "      <td>0.0</td>\n",
       "      <td>0.0</td>\n",
       "      <td>1.0</td>\n",
       "      <td>0.0</td>\n",
       "      <td>0.0</td>\n",
       "      <td>0.0</td>\n",
       "      <td>0.0</td>\n",
       "      <td>0.0</td>\n",
       "      <td>0.0</td>\n",
       "    </tr>\n",
       "    <tr>\n",
       "      <th>29</th>\n",
       "      <td>Venezuela</td>\n",
       "      <td></td>\n",
       "      <td>1958</td>\n",
       "      <td>0</td>\n",
       "      <td>1</td>\n",
       "      <td>1</td>\n",
       "      <td>0.0</td>\n",
       "      <td>0.0</td>\n",
       "      <td>0.0</td>\n",
       "      <td>0.0</td>\n",
       "      <td>0.0</td>\n",
       "      <td>1.0</td>\n",
       "      <td>0.0</td>\n",
       "      <td>0.0</td>\n",
       "      <td>0.0</td>\n",
       "      <td>0.0</td>\n",
       "      <td>0.0</td>\n",
       "    </tr>\n",
       "  </tbody>\n",
       "</table>\n",
       "</div>"
      ],
      "text/plain": [
       "       location                 campaign  eyear  viol  nonviol  success   t1  \\\n",
       "2         Haiti                            1985     0        1        1  0.0   \n",
       "9        Mexico                            2000     0        1        1  0.0   \n",
       "11    Guatemala  October Revolutionaries   1944     0        1        1  0.0   \n",
       "17  El Salvador    Strike of Fallen Arms   1944     0        1        1  0.0   \n",
       "29    Venezuela                            1958     0        1        1  0.0   \n",
       "\n",
       "     t2   t3   t4   t5   t6   t7   t8   t9  t10  t11  \n",
       "2   0.0  0.0  0.0  0.0  0.0  0.0  0.0  1.0  0.0  0.0  \n",
       "9   0.0  0.0  0.0  0.0  0.0  0.0  0.0  0.0  0.0  1.0  \n",
       "11  0.0  0.0  0.0  1.0  0.0  0.0  0.0  0.0  0.0  0.0  \n",
       "17  0.0  0.0  0.0  1.0  0.0  0.0  0.0  0.0  0.0  0.0  \n",
       "29  0.0  0.0  0.0  0.0  1.0  0.0  0.0  0.0  0.0  0.0  "
      ]
     },
     "execution_count": 10,
     "metadata": {},
     "output_type": "execute_result"
    }
   ],
   "source": [
    "nonv_dec40_suc = nonviol[(nonviol.eyear > 1939) & (nonviol.success == 1)]\n",
    "nonv_dec40_suc.head()"
   ]
  },
  {
   "cell_type": "markdown",
   "metadata": {
    "slideshow": {
     "slide_type": "slide"
    }
   },
   "source": [
    "The useful `.filter(regex)` method this time gives us the number of succcesful campaigns for each decade."
   ]
  },
  {
   "cell_type": "code",
   "execution_count": 11,
   "metadata": {
    "slideshow": {
     "slide_type": "fragment"
    }
   },
   "outputs": [
    {
     "data": {
      "text/html": [
       "<div>\n",
       "<style scoped>\n",
       "    .dataframe tbody tr th:only-of-type {\n",
       "        vertical-align: middle;\n",
       "    }\n",
       "\n",
       "    .dataframe tbody tr th {\n",
       "        vertical-align: top;\n",
       "    }\n",
       "\n",
       "    .dataframe thead th {\n",
       "        text-align: right;\n",
       "    }\n",
       "</style>\n",
       "<table border=\"1\" class=\"dataframe\">\n",
       "  <thead>\n",
       "    <tr style=\"text-align: right;\">\n",
       "      <th></th>\n",
       "      <th>Sucful_camps</th>\n",
       "    </tr>\n",
       "  </thead>\n",
       "  <tbody>\n",
       "    <tr>\n",
       "      <th>t5</th>\n",
       "      <td>2</td>\n",
       "    </tr>\n",
       "    <tr>\n",
       "      <th>t6</th>\n",
       "      <td>3</td>\n",
       "    </tr>\n",
       "    <tr>\n",
       "      <th>t7</th>\n",
       "      <td>3</td>\n",
       "    </tr>\n",
       "    <tr>\n",
       "      <th>t8</th>\n",
       "      <td>4</td>\n",
       "    </tr>\n",
       "    <tr>\n",
       "      <th>t9</th>\n",
       "      <td>17</td>\n",
       "    </tr>\n",
       "    <tr>\n",
       "      <th>t10</th>\n",
       "      <td>12</td>\n",
       "    </tr>\n",
       "    <tr>\n",
       "      <th>t11</th>\n",
       "      <td>14</td>\n",
       "    </tr>\n",
       "  </tbody>\n",
       "</table>\n",
       "</div>"
      ],
      "text/plain": [
       "     Sucful_camps\n",
       "t5              2\n",
       "t6              3\n",
       "t7              3\n",
       "t8              4\n",
       "t9             17\n",
       "t10            12\n",
       "t11            14"
      ]
     },
     "execution_count": 11,
     "metadata": {},
     "output_type": "execute_result"
    }
   ],
   "source": [
    "nonv_suc = nonv_dec40_suc.filter(regex='t.*')\n",
    "del nonv_suc['location']\n",
    "nonv_suc = pd.DataFrame(nonv_suc.sum(axis=0).astype(int), columns=['Sucful_camps'])\n",
    "nonv_dec40_sucful = nonv_suc.loc['t5':'t11']\n",
    "nonv_dec40_sucful"
   ]
  },
  {
   "cell_type": "markdown",
   "metadata": {
    "slideshow": {
     "slide_type": "fragment"
    }
   },
   "source": [
    "This time we are interested in the decades from `t5` onwards."
   ]
  },
  {
   "cell_type": "markdown",
   "metadata": {
    "slideshow": {
     "slide_type": "slide"
    }
   },
   "source": [
    "We extract the total number of campaigns for each decade that occured from 1940."
   ]
  },
  {
   "cell_type": "code",
   "execution_count": 12,
   "metadata": {
    "slideshow": {
     "slide_type": "fragment"
    }
   },
   "outputs": [
    {
     "data": {
      "text/html": [
       "<div>\n",
       "<style scoped>\n",
       "    .dataframe tbody tr th:only-of-type {\n",
       "        vertical-align: middle;\n",
       "    }\n",
       "\n",
       "    .dataframe tbody tr th {\n",
       "        vertical-align: top;\n",
       "    }\n",
       "\n",
       "    .dataframe thead th {\n",
       "        text-align: right;\n",
       "    }\n",
       "</style>\n",
       "<table border=\"1\" class=\"dataframe\">\n",
       "  <thead>\n",
       "    <tr style=\"text-align: right;\">\n",
       "      <th></th>\n",
       "      <th>Nonviolent</th>\n",
       "    </tr>\n",
       "  </thead>\n",
       "  <tbody>\n",
       "    <tr>\n",
       "      <th>t5</th>\n",
       "      <td>5</td>\n",
       "    </tr>\n",
       "    <tr>\n",
       "      <th>t6</th>\n",
       "      <td>9</td>\n",
       "    </tr>\n",
       "    <tr>\n",
       "      <th>t7</th>\n",
       "      <td>7</td>\n",
       "    </tr>\n",
       "    <tr>\n",
       "      <th>t8</th>\n",
       "      <td>7</td>\n",
       "    </tr>\n",
       "    <tr>\n",
       "      <th>t9</th>\n",
       "      <td>32</td>\n",
       "    </tr>\n",
       "    <tr>\n",
       "      <th>t10</th>\n",
       "      <td>23</td>\n",
       "    </tr>\n",
       "    <tr>\n",
       "      <th>t11</th>\n",
       "      <td>20</td>\n",
       "    </tr>\n",
       "  </tbody>\n",
       "</table>\n",
       "</div>"
      ],
      "text/plain": [
       "     Nonviolent\n",
       "t5            5\n",
       "t6            9\n",
       "t7            7\n",
       "t8            7\n",
       "t9           32\n",
       "t10          23\n",
       "t11          20"
      ]
     },
     "execution_count": 12,
     "metadata": {},
     "output_type": "execute_result"
    }
   ],
   "source": [
    "nonv_dec40_freq = nonv_freq.loc['t5':]\n",
    "nonv_dec40_freq"
   ]
  },
  {
   "cell_type": "markdown",
   "metadata": {
    "slideshow": {
     "slide_type": "slide"
    }
   },
   "source": [
    "Dividing the number of succesful campaigns to the total number of campaigns we get the percentage of success"
   ]
  },
  {
   "cell_type": "code",
   "execution_count": 13,
   "metadata": {
    "slideshow": {
     "slide_type": "fragment"
    }
   },
   "outputs": [
    {
     "name": "stderr",
     "output_type": "stream",
     "text": [
      "C:\\Users\\nicko\\Anaconda3\\lib\\site-packages\\pandas\\core\\indexing.py:362: SettingWithCopyWarning: \n",
      "A value is trying to be set on a copy of a slice from a DataFrame.\n",
      "Try using .loc[row_indexer,col_indexer] = value instead\n",
      "\n",
      "See the caveats in the documentation: http://pandas.pydata.org/pandas-docs/stable/indexing.html#indexing-view-versus-copy\n",
      "  self.obj[key] = _infer_fill_value(value)\n",
      "C:\\Users\\nicko\\Anaconda3\\lib\\site-packages\\pandas\\core\\indexing.py:543: SettingWithCopyWarning: \n",
      "A value is trying to be set on a copy of a slice from a DataFrame.\n",
      "Try using .loc[row_indexer,col_indexer] = value instead\n",
      "\n",
      "See the caveats in the documentation: http://pandas.pydata.org/pandas-docs/stable/indexing.html#indexing-view-versus-copy\n",
      "  self.obj[item] = s\n",
      "C:\\Users\\nicko\\Anaconda3\\lib\\site-packages\\pandas\\core\\frame.py:4025: SettingWithCopyWarning: \n",
      "A value is trying to be set on a copy of a slice from a DataFrame\n",
      "\n",
      "See the caveats in the documentation: http://pandas.pydata.org/pandas-docs/stable/indexing.html#indexing-view-versus-copy\n",
      "  return super(DataFrame, self).rename(**kwargs)\n"
     ]
    },
    {
     "data": {
      "text/html": [
       "<div>\n",
       "<style scoped>\n",
       "    .dataframe tbody tr th:only-of-type {\n",
       "        vertical-align: middle;\n",
       "    }\n",
       "\n",
       "    .dataframe tbody tr th {\n",
       "        vertical-align: top;\n",
       "    }\n",
       "\n",
       "    .dataframe thead th {\n",
       "        text-align: right;\n",
       "    }\n",
       "</style>\n",
       "<table border=\"1\" class=\"dataframe\">\n",
       "  <thead>\n",
       "    <tr style=\"text-align: right;\">\n",
       "      <th></th>\n",
       "      <th>Nonviolent</th>\n",
       "      <th>NVSuccess_rate</th>\n",
       "    </tr>\n",
       "  </thead>\n",
       "  <tbody>\n",
       "    <tr>\n",
       "      <th>1940</th>\n",
       "      <td>5</td>\n",
       "      <td>0.40</td>\n",
       "    </tr>\n",
       "    <tr>\n",
       "      <th>1950</th>\n",
       "      <td>9</td>\n",
       "      <td>0.33</td>\n",
       "    </tr>\n",
       "    <tr>\n",
       "      <th>1960</th>\n",
       "      <td>7</td>\n",
       "      <td>0.43</td>\n",
       "    </tr>\n",
       "    <tr>\n",
       "      <th>1970</th>\n",
       "      <td>7</td>\n",
       "      <td>0.57</td>\n",
       "    </tr>\n",
       "    <tr>\n",
       "      <th>1980</th>\n",
       "      <td>32</td>\n",
       "      <td>0.53</td>\n",
       "    </tr>\n",
       "    <tr>\n",
       "      <th>1990</th>\n",
       "      <td>23</td>\n",
       "      <td>0.52</td>\n",
       "    </tr>\n",
       "    <tr>\n",
       "      <th>2000</th>\n",
       "      <td>20</td>\n",
       "      <td>0.70</td>\n",
       "    </tr>\n",
       "  </tbody>\n",
       "</table>\n",
       "</div>"
      ],
      "text/plain": [
       "      Nonviolent  NVSuccess_rate\n",
       "1940           5            0.40\n",
       "1950           9            0.33\n",
       "1960           7            0.43\n",
       "1970           7            0.57\n",
       "1980          32            0.53\n",
       "1990          23            0.52\n",
       "2000          20            0.70"
      ]
     },
     "execution_count": 13,
     "metadata": {},
     "output_type": "execute_result"
    }
   ],
   "source": [
    "nonv_dec40_freq.loc[:,'NVSuccess_rate'] = (nonv_dec40_sucful.loc[:, 'Sucful_camps'].\\\n",
    "                                     div(nonv_dec40_freq.loc[:, 'Nonviolent'])).round(2)\n",
    "nonv_dec40_freq.rename(index = {\"t5\":'1940', \"t6\":'1950', \"t7\":'1960', \"t8\":\"1970\",\n",
    "                               \"t9\":'1980', \"t10\":'1990', \"t11\":'2000'},inplace=True)\n",
    "nonv_dec40_freq"
   ]
  },
  {
   "cell_type": "markdown",
   "metadata": {
    "slideshow": {
     "slide_type": "slide"
    }
   },
   "source": [
    "Then, we create our bar plot, which presents:\n",
    "- the decades in the **x axis**\n",
    "- the number of campaigns that occured in the **left y axis**\n",
    "- and the success rate in the **right y axis**"
   ]
  },
  {
   "cell_type": "code",
   "execution_count": 14,
   "metadata": {
    "slideshow": {
     "slide_type": "fragment"
    }
   },
   "outputs": [
    {
     "data": {
      "image/png": "[encoded data removed]",
      "text/plain": [
       "<Figure size 1224x648 with 2 Axes>"
      ]
     },
     "metadata": {
      "needs_background": "light"
     },
     "output_type": "display_data"
    }
   ],
   "source": [
    "fig = plt.figure()\n",
    "ax = fig.add_subplot()\n",
    "ax1 = ax.twinx()\n",
    "nonv_dec40_freq.Nonviolent.plot(kind='bar', color='royalblue', ax=ax, rot=0, position=1, width=0.2, figsize=(17,9))\n",
    "nonv_dec40_freq.NVSuccess_rate.plot(kind='bar', color='orange', ax=ax1, rot=0, position=0, width=0.2, figsize=(17,9))\n",
    "plt.show()"
   ]
  },
  {
   "cell_type": "markdown",
   "metadata": {
    "slideshow": {
     "slide_type": "slide"
    }
   },
   "source": [
    "## Question 3\n",
    "***\n",
    "### The third question presents:\n",
    "- a plot that shows the success rate for violent and nonviolent campaigns by decade"
   ]
  },
  {
   "cell_type": "markdown",
   "metadata": {
    "slideshow": {
     "slide_type": "slide"
    }
   },
   "source": [
    "We have already extracted the results needed for the nonviolent campaigns from the previous question. So, we need to do the same for the violent results. For this reason, we use the `viol` dataframe from Question 1 that contains all the violent campaigns and we select those that occured after 1939 and were succesful."
   ]
  },
  {
   "cell_type": "code",
   "execution_count": 15,
   "metadata": {
    "scrolled": true,
    "slideshow": {
     "slide_type": "fragment"
    }
   },
   "outputs": [
    {
     "data": {
      "text/html": [
       "<div>\n",
       "<style scoped>\n",
       "    .dataframe tbody tr th:only-of-type {\n",
       "        vertical-align: middle;\n",
       "    }\n",
       "\n",
       "    .dataframe tbody tr th {\n",
       "        vertical-align: top;\n",
       "    }\n",
       "\n",
       "    .dataframe thead th {\n",
       "        text-align: right;\n",
       "    }\n",
       "</style>\n",
       "<table border=\"1\" class=\"dataframe\">\n",
       "  <thead>\n",
       "    <tr style=\"text-align: right;\">\n",
       "      <th></th>\n",
       "      <th>location</th>\n",
       "      <th>campaign</th>\n",
       "      <th>eyear</th>\n",
       "      <th>viol</th>\n",
       "      <th>nonviol</th>\n",
       "      <th>success</th>\n",
       "      <th>t1</th>\n",
       "      <th>t2</th>\n",
       "      <th>t3</th>\n",
       "      <th>t4</th>\n",
       "      <th>t5</th>\n",
       "      <th>t6</th>\n",
       "      <th>t7</th>\n",
       "      <th>t8</th>\n",
       "      <th>t9</th>\n",
       "      <th>t10</th>\n",
       "      <th>t11</th>\n",
       "    </tr>\n",
       "  </thead>\n",
       "  <tbody>\n",
       "    <tr>\n",
       "      <th>299</th>\n",
       "      <td>Cambodia</td>\n",
       "      <td>Khmer Rouge</td>\n",
       "      <td>1975</td>\n",
       "      <td>1</td>\n",
       "      <td>0</td>\n",
       "      <td>1</td>\n",
       "      <td>0.0</td>\n",
       "      <td>0.0</td>\n",
       "      <td>0.0</td>\n",
       "      <td>0.0</td>\n",
       "      <td>0.0</td>\n",
       "      <td>0.0</td>\n",
       "      <td>0.0</td>\n",
       "      <td>1.0</td>\n",
       "      <td>0.0</td>\n",
       "      <td>0.0</td>\n",
       "      <td>0.0</td>\n",
       "    </tr>\n",
       "    <tr>\n",
       "      <th>239</th>\n",
       "      <td>Yemen</td>\n",
       "      <td>FLOSY, NLF in Aden</td>\n",
       "      <td>1967</td>\n",
       "      <td>1</td>\n",
       "      <td>0</td>\n",
       "      <td>1</td>\n",
       "      <td>0.0</td>\n",
       "      <td>0.0</td>\n",
       "      <td>0.0</td>\n",
       "      <td>0.0</td>\n",
       "      <td>0.0</td>\n",
       "      <td>0.0</td>\n",
       "      <td>1.0</td>\n",
       "      <td>0.0</td>\n",
       "      <td>0.0</td>\n",
       "      <td>0.0</td>\n",
       "      <td>0.0</td>\n",
       "    </tr>\n",
       "    <tr>\n",
       "      <th>170</th>\n",
       "      <td>Ethiopia</td>\n",
       "      <td>Tigrean Liberation Front</td>\n",
       "      <td>1991</td>\n",
       "      <td>1</td>\n",
       "      <td>0</td>\n",
       "      <td>1</td>\n",
       "      <td>0.0</td>\n",
       "      <td>0.0</td>\n",
       "      <td>0.0</td>\n",
       "      <td>0.0</td>\n",
       "      <td>0.0</td>\n",
       "      <td>0.0</td>\n",
       "      <td>0.0</td>\n",
       "      <td>0.0</td>\n",
       "      <td>0.0</td>\n",
       "      <td>1.0</td>\n",
       "      <td>0.0</td>\n",
       "    </tr>\n",
       "    <tr>\n",
       "      <th>196</th>\n",
       "      <td>Algeria</td>\n",
       "      <td>Algerian Revolt/National Liberation Front</td>\n",
       "      <td>1962</td>\n",
       "      <td>1</td>\n",
       "      <td>0</td>\n",
       "      <td>1</td>\n",
       "      <td>0.0</td>\n",
       "      <td>0.0</td>\n",
       "      <td>0.0</td>\n",
       "      <td>0.0</td>\n",
       "      <td>0.0</td>\n",
       "      <td>0.0</td>\n",
       "      <td>1.0</td>\n",
       "      <td>0.0</td>\n",
       "      <td>0.0</td>\n",
       "      <td>0.0</td>\n",
       "      <td>0.0</td>\n",
       "    </tr>\n",
       "    <tr>\n",
       "      <th>0</th>\n",
       "      <td>Cuba</td>\n",
       "      <td>Cuban Revolution</td>\n",
       "      <td>1959</td>\n",
       "      <td>1</td>\n",
       "      <td>0</td>\n",
       "      <td>1</td>\n",
       "      <td>0.0</td>\n",
       "      <td>0.0</td>\n",
       "      <td>0.0</td>\n",
       "      <td>0.0</td>\n",
       "      <td>0.0</td>\n",
       "      <td>1.0</td>\n",
       "      <td>0.0</td>\n",
       "      <td>0.0</td>\n",
       "      <td>0.0</td>\n",
       "      <td>0.0</td>\n",
       "      <td>0.0</td>\n",
       "    </tr>\n",
       "  </tbody>\n",
       "</table>\n",
       "</div>"
      ],
      "text/plain": [
       "     location                                   campaign  eyear  viol  \\\n",
       "299  Cambodia                                Khmer Rouge   1975     1   \n",
       "239     Yemen                         FLOSY, NLF in Aden   1967     1   \n",
       "170  Ethiopia                   Tigrean Liberation Front   1991     1   \n",
       "196   Algeria  Algerian Revolt/National Liberation Front   1962     1   \n",
       "0        Cuba                           Cuban Revolution   1959     1   \n",
       "\n",
       "     nonviol  success   t1   t2   t3   t4   t5   t6   t7   t8   t9  t10  t11  \n",
       "299        0        1  0.0  0.0  0.0  0.0  0.0  0.0  0.0  1.0  0.0  0.0  0.0  \n",
       "239        0        1  0.0  0.0  0.0  0.0  0.0  0.0  1.0  0.0  0.0  0.0  0.0  \n",
       "170        0        1  0.0  0.0  0.0  0.0  0.0  0.0  0.0  0.0  0.0  1.0  0.0  \n",
       "196        0        1  0.0  0.0  0.0  0.0  0.0  0.0  1.0  0.0  0.0  0.0  0.0  \n",
       "0          0        1  0.0  0.0  0.0  0.0  0.0  1.0  0.0  0.0  0.0  0.0  0.0  "
      ]
     },
     "execution_count": 15,
     "metadata": {},
     "output_type": "execute_result"
    }
   ],
   "source": [
    "viol_dec40_suc = viol[(viol.eyear > 1939) & (viol.success == 1)]\n",
    "viol_dec40_suc.sample(5)"
   ]
  },
  {
   "cell_type": "markdown",
   "metadata": {
    "slideshow": {
     "slide_type": "slide"
    }
   },
   "source": [
    "Again, we calculate the number of succesful violent campaigns in order to later calculate the success rate."
   ]
  },
  {
   "cell_type": "code",
   "execution_count": 16,
   "metadata": {
    "slideshow": {
     "slide_type": "fragment"
    }
   },
   "outputs": [
    {
     "data": {
      "text/html": [
       "<div>\n",
       "<style scoped>\n",
       "    .dataframe tbody tr th:only-of-type {\n",
       "        vertical-align: middle;\n",
       "    }\n",
       "\n",
       "    .dataframe tbody tr th {\n",
       "        vertical-align: top;\n",
       "    }\n",
       "\n",
       "    .dataframe thead th {\n",
       "        text-align: right;\n",
       "    }\n",
       "</style>\n",
       "<table border=\"1\" class=\"dataframe\">\n",
       "  <thead>\n",
       "    <tr style=\"text-align: right;\">\n",
       "      <th></th>\n",
       "      <th>sucful_camps</th>\n",
       "    </tr>\n",
       "  </thead>\n",
       "  <tbody>\n",
       "    <tr>\n",
       "      <th>t5</th>\n",
       "      <td>7</td>\n",
       "    </tr>\n",
       "    <tr>\n",
       "      <th>t6</th>\n",
       "      <td>7</td>\n",
       "    </tr>\n",
       "    <tr>\n",
       "      <th>t7</th>\n",
       "      <td>4</td>\n",
       "    </tr>\n",
       "    <tr>\n",
       "      <th>t8</th>\n",
       "      <td>10</td>\n",
       "    </tr>\n",
       "    <tr>\n",
       "      <th>t9</th>\n",
       "      <td>5</td>\n",
       "    </tr>\n",
       "    <tr>\n",
       "      <th>t10</th>\n",
       "      <td>12</td>\n",
       "    </tr>\n",
       "    <tr>\n",
       "      <th>t11</th>\n",
       "      <td>3</td>\n",
       "    </tr>\n",
       "  </tbody>\n",
       "</table>\n",
       "</div>"
      ],
      "text/plain": [
       "     sucful_camps\n",
       "t5              7\n",
       "t6              7\n",
       "t7              4\n",
       "t8             10\n",
       "t9              5\n",
       "t10            12\n",
       "t11             3"
      ]
     },
     "execution_count": 16,
     "metadata": {},
     "output_type": "execute_result"
    }
   ],
   "source": [
    "v_suc = viol_dec40_suc.filter(regex=\"t.*\")\n",
    "del v_suc['location']\n",
    "v_suc = pd.DataFrame(v_suc.sum(axis=0).astype(int), columns=['sucful_camps'])\n",
    "v_sucful = v_suc.loc['t5':]\n",
    "v_sucful"
   ]
  },
  {
   "cell_type": "markdown",
   "metadata": {
    "slideshow": {
     "slide_type": "slide"
    }
   },
   "source": [
    "We are interested in the decades from 1940 onwards."
   ]
  },
  {
   "cell_type": "code",
   "execution_count": 17,
   "metadata": {
    "slideshow": {
     "slide_type": "fragment"
    }
   },
   "outputs": [
    {
     "data": {
      "text/html": [
       "<div>\n",
       "<style scoped>\n",
       "    .dataframe tbody tr th:only-of-type {\n",
       "        vertical-align: middle;\n",
       "    }\n",
       "\n",
       "    .dataframe tbody tr th {\n",
       "        vertical-align: top;\n",
       "    }\n",
       "\n",
       "    .dataframe thead th {\n",
       "        text-align: right;\n",
       "    }\n",
       "</style>\n",
       "<table border=\"1\" class=\"dataframe\">\n",
       "  <thead>\n",
       "    <tr style=\"text-align: right;\">\n",
       "      <th></th>\n",
       "      <th>Violent</th>\n",
       "    </tr>\n",
       "  </thead>\n",
       "  <tbody>\n",
       "    <tr>\n",
       "      <th>t5</th>\n",
       "      <td>21</td>\n",
       "    </tr>\n",
       "    <tr>\n",
       "      <th>t6</th>\n",
       "      <td>19</td>\n",
       "    </tr>\n",
       "    <tr>\n",
       "      <th>t7</th>\n",
       "      <td>17</td>\n",
       "    </tr>\n",
       "    <tr>\n",
       "      <th>t8</th>\n",
       "      <td>26</td>\n",
       "    </tr>\n",
       "    <tr>\n",
       "      <th>t9</th>\n",
       "      <td>13</td>\n",
       "    </tr>\n",
       "    <tr>\n",
       "      <th>t10</th>\n",
       "      <td>45</td>\n",
       "    </tr>\n",
       "    <tr>\n",
       "      <th>t11</th>\n",
       "      <td>22</td>\n",
       "    </tr>\n",
       "  </tbody>\n",
       "</table>\n",
       "</div>"
      ],
      "text/plain": [
       "     Violent\n",
       "t5        21\n",
       "t6        19\n",
       "t7        17\n",
       "t8        26\n",
       "t9        13\n",
       "t10       45\n",
       "t11       22"
      ]
     },
     "execution_count": 17,
     "metadata": {},
     "output_type": "execute_result"
    }
   ],
   "source": [
    "v_dec40_freq = v_freq.loc['t5':]\n",
    "v_dec40_freq"
   ]
  },
  {
   "cell_type": "markdown",
   "metadata": {
    "slideshow": {
     "slide_type": "slide"
    }
   },
   "source": [
    "We do the necessary divisions to find the **success rate** and we create a new column in `v_dec40_freq` (that already contains the total number of violent campaigns from 1940) that expresses the success rate."
   ]
  },
  {
   "cell_type": "code",
   "execution_count": 18,
   "metadata": {
    "scrolled": false,
    "slideshow": {
     "slide_type": "fragment"
    }
   },
   "outputs": [
    {
     "data": {
      "text/html": [
       "<div>\n",
       "<style scoped>\n",
       "    .dataframe tbody tr th:only-of-type {\n",
       "        vertical-align: middle;\n",
       "    }\n",
       "\n",
       "    .dataframe tbody tr th {\n",
       "        vertical-align: top;\n",
       "    }\n",
       "\n",
       "    .dataframe thead th {\n",
       "        text-align: right;\n",
       "    }\n",
       "</style>\n",
       "<table border=\"1\" class=\"dataframe\">\n",
       "  <thead>\n",
       "    <tr style=\"text-align: right;\">\n",
       "      <th></th>\n",
       "      <th>Violent</th>\n",
       "      <th>Vsuccess_rate</th>\n",
       "    </tr>\n",
       "  </thead>\n",
       "  <tbody>\n",
       "    <tr>\n",
       "      <th>1940</th>\n",
       "      <td>21</td>\n",
       "      <td>0.33</td>\n",
       "    </tr>\n",
       "    <tr>\n",
       "      <th>1950</th>\n",
       "      <td>19</td>\n",
       "      <td>0.37</td>\n",
       "    </tr>\n",
       "    <tr>\n",
       "      <th>1960</th>\n",
       "      <td>17</td>\n",
       "      <td>0.24</td>\n",
       "    </tr>\n",
       "    <tr>\n",
       "      <th>1970</th>\n",
       "      <td>26</td>\n",
       "      <td>0.38</td>\n",
       "    </tr>\n",
       "    <tr>\n",
       "      <th>1980</th>\n",
       "      <td>13</td>\n",
       "      <td>0.38</td>\n",
       "    </tr>\n",
       "    <tr>\n",
       "      <th>1990</th>\n",
       "      <td>45</td>\n",
       "      <td>0.27</td>\n",
       "    </tr>\n",
       "    <tr>\n",
       "      <th>2000</th>\n",
       "      <td>22</td>\n",
       "      <td>0.14</td>\n",
       "    </tr>\n",
       "  </tbody>\n",
       "</table>\n",
       "</div>"
      ],
      "text/plain": [
       "      Violent  Vsuccess_rate\n",
       "1940       21           0.33\n",
       "1950       19           0.37\n",
       "1960       17           0.24\n",
       "1970       26           0.38\n",
       "1980       13           0.38\n",
       "1990       45           0.27\n",
       "2000       22           0.14"
      ]
     },
     "execution_count": 18,
     "metadata": {},
     "output_type": "execute_result"
    }
   ],
   "source": [
    "v_dec40_freq.loc[:, 'Vsuccess_rate'] = (v_sucful.loc[:, 'sucful_camps'].\\\n",
    "                                        div(v_dec40_freq.loc[:, 'Violent'])).round(2)\n",
    "v_dec40_freq.rename(index = {\"t5\":'1940', \"t6\":'1950', \"t7\":'1960', \"t8\":\"1970\",\n",
    "                             \"t9\":'1980', \"t10\":'1990', \"t11\":'2000'},inplace=True)\n",
    "v_dec40_freq"
   ]
  },
  {
   "cell_type": "markdown",
   "metadata": {
    "slideshow": {
     "slide_type": "slide"
    }
   },
   "source": [
    "We create a single dataframe that contains only two columns for the success rate, one for the nonviolent and one for the violent campaigns."
   ]
  },
  {
   "cell_type": "code",
   "execution_count": 19,
   "metadata": {
    "slideshow": {
     "slide_type": "fragment"
    }
   },
   "outputs": [
    {
     "data": {
      "text/html": [
       "<div>\n",
       "<style scoped>\n",
       "    .dataframe tbody tr th:only-of-type {\n",
       "        vertical-align: middle;\n",
       "    }\n",
       "\n",
       "    .dataframe tbody tr th {\n",
       "        vertical-align: top;\n",
       "    }\n",
       "\n",
       "    .dataframe thead th {\n",
       "        text-align: right;\n",
       "    }\n",
       "</style>\n",
       "<table border=\"1\" class=\"dataframe\">\n",
       "  <thead>\n",
       "    <tr style=\"text-align: right;\">\n",
       "      <th></th>\n",
       "      <th>nonviolent</th>\n",
       "      <th>violent</th>\n",
       "    </tr>\n",
       "  </thead>\n",
       "  <tbody>\n",
       "    <tr>\n",
       "      <th>1940</th>\n",
       "      <td>0.40</td>\n",
       "      <td>0.33</td>\n",
       "    </tr>\n",
       "    <tr>\n",
       "      <th>1950</th>\n",
       "      <td>0.33</td>\n",
       "      <td>0.37</td>\n",
       "    </tr>\n",
       "    <tr>\n",
       "      <th>1960</th>\n",
       "      <td>0.43</td>\n",
       "      <td>0.24</td>\n",
       "    </tr>\n",
       "    <tr>\n",
       "      <th>1970</th>\n",
       "      <td>0.57</td>\n",
       "      <td>0.38</td>\n",
       "    </tr>\n",
       "    <tr>\n",
       "      <th>1980</th>\n",
       "      <td>0.53</td>\n",
       "      <td>0.38</td>\n",
       "    </tr>\n",
       "    <tr>\n",
       "      <th>1990</th>\n",
       "      <td>0.52</td>\n",
       "      <td>0.27</td>\n",
       "    </tr>\n",
       "    <tr>\n",
       "      <th>2000</th>\n",
       "      <td>0.70</td>\n",
       "      <td>0.14</td>\n",
       "    </tr>\n",
       "  </tbody>\n",
       "</table>\n",
       "</div>"
      ],
      "text/plain": [
       "      nonviolent  violent\n",
       "1940        0.40     0.33\n",
       "1950        0.33     0.37\n",
       "1960        0.43     0.24\n",
       "1970        0.57     0.38\n",
       "1980        0.53     0.38\n",
       "1990        0.52     0.27\n",
       "2000        0.70     0.14"
      ]
     },
     "execution_count": 19,
     "metadata": {},
     "output_type": "execute_result"
    }
   ],
   "source": [
    "vnonv_sucrate = pd.DataFrame({\"nonviolent\": nonv_dec40_freq['NVSuccess_rate'], \n",
    "                              \"violent\": v_dec40_freq['Vsuccess_rate']})\n",
    "vnonv_sucrate"
   ]
  },
  {
   "cell_type": "markdown",
   "metadata": {
    "slideshow": {
     "slide_type": "slide"
    }
   },
   "source": [
    "Now, we create the plot that contains the decades in the x axis and the success rate for each type of campaign (violent or nonviolent) in the y axis."
   ]
  },
  {
   "cell_type": "code",
   "execution_count": 20,
   "metadata": {
    "slideshow": {
     "slide_type": "fragment"
    }
   },
   "outputs": [
    {
     "data": {
      "image/png": "[encoded data removed]",
      "text/plain": [
       "<Figure size 1224x648 with 1 Axes>"
      ]
     },
     "metadata": {
      "needs_background": "light"
     },
     "output_type": "display_data"
    }
   ],
   "source": [
    "fig, ax = plt.subplots()\n",
    "vnonv_sucrate.plot(kind='bar', ax=ax, color=['royalblue', 'red'], rot=0, figsize=(17,9))\n",
    "ax.set_xlabel('decade', size=13)\n",
    "ax.set_ylabel('success rate', size=13)\n",
    "ax.grid()\n",
    "ax.set_axisbelow(True)"
   ]
  },
  {
   "cell_type": "markdown",
   "metadata": {
    "slideshow": {
     "slide_type": "slide"
    }
   },
   "source": [
    "As Erical Chenoweth and Maria J. Stephan correctly mention in the documentation:\n",
    "\n",
    "> _\"the results are even more favorable to nonviolent campaigns than to violent campaigns\"_\n",
    "\n",
    "And the plot is the proof that nonviolent campaigns have a higher success rate !"
   ]
  },
  {
   "cell_type": "markdown",
   "metadata": {
    "slideshow": {
     "slide_type": "slide"
    }
   },
   "source": [
    "## Question 4\n",
    "***\n",
    "### The fourth question:\n",
    "- includes the 25 largest campaigns for all years based on their number of members that participated at highest point"
   ]
  },
  {
   "cell_type": "markdown",
   "metadata": {
    "slideshow": {
     "slide_type": "slide"
    }
   },
   "source": [
    "We create a new dataframe that contain the membership at highest point, the start and end year, the location, the objective, whether it was violent or not and whether it was succesful or not.\n",
    "\n",
    "**Note:**\n",
    "- we transform the `viol` and `success` column in order to better understand the data (_nonviolent_ instead of _0_, etc.)"
   ]
  },
  {
   "cell_type": "code",
   "execution_count": 21,
   "metadata": {
    "slideshow": {
     "slide_type": "fragment"
    }
   },
   "outputs": [],
   "source": [
    "peakmemb = data[['peakmembership',\n",
    "                 'byear',\n",
    "                 'eyear',\n",
    "                 'location',\n",
    "                 'target',\n",
    "                 'viol',\n",
    "                 'success']].sort_values(by = 'peakmembership', ascending=False).head(25)\n",
    "peakmemb.reset_index(drop=True, inplace=True)\n",
    "peakmemb.loc[:, 'viol'] = peakmemb.viol.replace([1, 0], ['violent', 'nonviolent'])\n",
    "peakmemb.loc[:, 'success'] = peakmemb.success.replace([0,1], ['succesful', 'non-succesful'])"
   ]
  },
  {
   "cell_type": "code",
   "execution_count": 22,
   "metadata": {
    "slideshow": {
     "slide_type": "slide"
    }
   },
   "outputs": [
    {
     "data": {
      "text/html": [
       "<div>\n",
       "<style scoped>\n",
       "    .dataframe tbody tr th:only-of-type {\n",
       "        vertical-align: middle;\n",
       "    }\n",
       "\n",
       "    .dataframe tbody tr th {\n",
       "        vertical-align: top;\n",
       "    }\n",
       "\n",
       "    .dataframe thead th {\n",
       "        text-align: right;\n",
       "    }\n",
       "</style>\n",
       "<table border=\"1\" class=\"dataframe\">\n",
       "  <thead>\n",
       "    <tr style=\"text-align: right;\">\n",
       "      <th></th>\n",
       "      <th>peakmembership</th>\n",
       "      <th>byear</th>\n",
       "      <th>eyear</th>\n",
       "      <th>location</th>\n",
       "      <th>target</th>\n",
       "      <th>viol</th>\n",
       "      <th>success</th>\n",
       "    </tr>\n",
       "  </thead>\n",
       "  <tbody>\n",
       "    <tr>\n",
       "      <th>0</th>\n",
       "      <td>4500000.0</td>\n",
       "      <td>1937</td>\n",
       "      <td>1945</td>\n",
       "      <td>China</td>\n",
       "      <td>Japanese occupation</td>\n",
       "      <td>violent</td>\n",
       "      <td>succesful</td>\n",
       "    </tr>\n",
       "    <tr>\n",
       "      <th>1</th>\n",
       "      <td>2000000.0</td>\n",
       "      <td>1977</td>\n",
       "      <td>1979</td>\n",
       "      <td>Iran</td>\n",
       "      <td>Shah Reza Pahlavi</td>\n",
       "      <td>nonviolent</td>\n",
       "      <td>non-succesful</td>\n",
       "    </tr>\n",
       "    <tr>\n",
       "      <th>2</th>\n",
       "      <td>2000000.0</td>\n",
       "      <td>1986</td>\n",
       "      <td>1983</td>\n",
       "      <td>Philippines</td>\n",
       "      <td>Ferdinand Marcos</td>\n",
       "      <td>nonviolent</td>\n",
       "      <td>non-succesful</td>\n",
       "    </tr>\n",
       "    <tr>\n",
       "      <th>3</th>\n",
       "      <td>1000000.0</td>\n",
       "      <td>1988</td>\n",
       "      <td>1988</td>\n",
       "      <td>Burma</td>\n",
       "      <td>military junta</td>\n",
       "      <td>nonviolent</td>\n",
       "      <td>succesful</td>\n",
       "    </tr>\n",
       "    <tr>\n",
       "      <th>4</th>\n",
       "      <td>1000000.0</td>\n",
       "      <td>1989</td>\n",
       "      <td>1989</td>\n",
       "      <td>China</td>\n",
       "      <td>Communist regime</td>\n",
       "      <td>nonviolent</td>\n",
       "      <td>succesful</td>\n",
       "    </tr>\n",
       "    <tr>\n",
       "      <th>5</th>\n",
       "      <td>1000000.0</td>\n",
       "      <td>1967</td>\n",
       "      <td>1968</td>\n",
       "      <td>China</td>\n",
       "      <td>anti-Maoists</td>\n",
       "      <td>violent</td>\n",
       "      <td>succesful</td>\n",
       "    </tr>\n",
       "    <tr>\n",
       "      <th>6</th>\n",
       "      <td>1000000.0</td>\n",
       "      <td>1922</td>\n",
       "      <td>1949</td>\n",
       "      <td>China</td>\n",
       "      <td>Kuomintang regime</td>\n",
       "      <td>violent</td>\n",
       "      <td>non-succesful</td>\n",
       "    </tr>\n",
       "    <tr>\n",
       "      <th>7</th>\n",
       "      <td>1000000.0</td>\n",
       "      <td>2006</td>\n",
       "      <td>2006</td>\n",
       "      <td>Mexico</td>\n",
       "      <td>Calderon regime</td>\n",
       "      <td>nonviolent</td>\n",
       "      <td>succesful</td>\n",
       "    </tr>\n",
       "    <tr>\n",
       "      <th>8</th>\n",
       "      <td>1000000.0</td>\n",
       "      <td>2005</td>\n",
       "      <td>2005</td>\n",
       "      <td>Lebanon</td>\n",
       "      <td>Syrian forces</td>\n",
       "      <td>nonviolent</td>\n",
       "      <td>non-succesful</td>\n",
       "    </tr>\n",
       "    <tr>\n",
       "      <th>9</th>\n",
       "      <td>1000000.0</td>\n",
       "      <td>1993</td>\n",
       "      <td>1999</td>\n",
       "      <td>Nigeria</td>\n",
       "      <td>Military rule</td>\n",
       "      <td>nonviolent</td>\n",
       "      <td>non-succesful</td>\n",
       "    </tr>\n",
       "    <tr>\n",
       "      <th>10</th>\n",
       "      <td>1000000.0</td>\n",
       "      <td>1984</td>\n",
       "      <td>1985</td>\n",
       "      <td>Brazil</td>\n",
       "      <td>Military rule</td>\n",
       "      <td>nonviolent</td>\n",
       "      <td>non-succesful</td>\n",
       "    </tr>\n",
       "    <tr>\n",
       "      <th>11</th>\n",
       "      <td>700000.0</td>\n",
       "      <td>1990</td>\n",
       "      <td>1991</td>\n",
       "      <td>Russia</td>\n",
       "      <td>Anti-coup</td>\n",
       "      <td>nonviolent</td>\n",
       "      <td>non-succesful</td>\n",
       "    </tr>\n",
       "    <tr>\n",
       "      <th>12</th>\n",
       "      <td>700000.0</td>\n",
       "      <td>1983</td>\n",
       "      <td>1989</td>\n",
       "      <td>Chile</td>\n",
       "      <td>Augusto Pinochet</td>\n",
       "      <td>nonviolent</td>\n",
       "      <td>non-succesful</td>\n",
       "    </tr>\n",
       "    <tr>\n",
       "      <th>13</th>\n",
       "      <td>550000.0</td>\n",
       "      <td>1956</td>\n",
       "      <td>1957</td>\n",
       "      <td>China</td>\n",
       "      <td>Communist regime</td>\n",
       "      <td>nonviolent</td>\n",
       "      <td>succesful</td>\n",
       "    </tr>\n",
       "    <tr>\n",
       "      <th>14</th>\n",
       "      <td>500000.0</td>\n",
       "      <td>1989</td>\n",
       "      <td>1989</td>\n",
       "      <td>Czechoslovakia</td>\n",
       "      <td>Communist regime</td>\n",
       "      <td>nonviolent</td>\n",
       "      <td>non-succesful</td>\n",
       "    </tr>\n",
       "    <tr>\n",
       "      <th>15</th>\n",
       "      <td>500000.0</td>\n",
       "      <td>2002</td>\n",
       "      <td>2003</td>\n",
       "      <td>Madagascar</td>\n",
       "      <td>Radsiraka regime</td>\n",
       "      <td>nonviolent</td>\n",
       "      <td>non-succesful</td>\n",
       "    </tr>\n",
       "    <tr>\n",
       "      <th>16</th>\n",
       "      <td>500000.0</td>\n",
       "      <td>1963</td>\n",
       "      <td>1963</td>\n",
       "      <td>Greece</td>\n",
       "      <td>Karamanlis regime</td>\n",
       "      <td>nonviolent</td>\n",
       "      <td>non-succesful</td>\n",
       "    </tr>\n",
       "    <tr>\n",
       "      <th>17</th>\n",
       "      <td>500000.0</td>\n",
       "      <td>2001</td>\n",
       "      <td>2004</td>\n",
       "      <td>Ukraine</td>\n",
       "      <td>Kuchma regime</td>\n",
       "      <td>nonviolent</td>\n",
       "      <td>non-succesful</td>\n",
       "    </tr>\n",
       "    <tr>\n",
       "      <th>18</th>\n",
       "      <td>500000.0</td>\n",
       "      <td>2001</td>\n",
       "      <td>2001</td>\n",
       "      <td>Philippines</td>\n",
       "      <td>Estrada regime</td>\n",
       "      <td>nonviolent</td>\n",
       "      <td>non-succesful</td>\n",
       "    </tr>\n",
       "    <tr>\n",
       "      <th>19</th>\n",
       "      <td>400000.0</td>\n",
       "      <td>1941</td>\n",
       "      <td>1945</td>\n",
       "      <td>USSR</td>\n",
       "      <td>Nazi occupation</td>\n",
       "      <td>violent</td>\n",
       "      <td>succesful</td>\n",
       "    </tr>\n",
       "    <tr>\n",
       "      <th>20</th>\n",
       "      <td>400000.0</td>\n",
       "      <td>1991</td>\n",
       "      <td>1993</td>\n",
       "      <td>Madagascar</td>\n",
       "      <td>Didier Radsiraka</td>\n",
       "      <td>nonviolent</td>\n",
       "      <td>non-succesful</td>\n",
       "    </tr>\n",
       "    <tr>\n",
       "      <th>21</th>\n",
       "      <td>400000.0</td>\n",
       "      <td>1953</td>\n",
       "      <td>1953</td>\n",
       "      <td>East Germany</td>\n",
       "      <td>Communist regime</td>\n",
       "      <td>nonviolent</td>\n",
       "      <td>succesful</td>\n",
       "    </tr>\n",
       "    <tr>\n",
       "      <th>22</th>\n",
       "      <td>340000.0</td>\n",
       "      <td>1958</td>\n",
       "      <td>1975</td>\n",
       "      <td>Vietnam</td>\n",
       "      <td>U.S. occupation</td>\n",
       "      <td>violent</td>\n",
       "      <td>non-succesful</td>\n",
       "    </tr>\n",
       "    <tr>\n",
       "      <th>23</th>\n",
       "      <td>300000.0</td>\n",
       "      <td>1943</td>\n",
       "      <td>1945</td>\n",
       "      <td>Italy</td>\n",
       "      <td>Nazi occupation</td>\n",
       "      <td>violent</td>\n",
       "      <td>succesful</td>\n",
       "    </tr>\n",
       "    <tr>\n",
       "      <th>24</th>\n",
       "      <td>300000.0</td>\n",
       "      <td>1944</td>\n",
       "      <td>1944</td>\n",
       "      <td>Poland</td>\n",
       "      <td>German occupation</td>\n",
       "      <td>violent</td>\n",
       "      <td>succesful</td>\n",
       "    </tr>\n",
       "  </tbody>\n",
       "</table>\n",
       "</div>"
      ],
      "text/plain": [
       "    peakmembership  byear  eyear        location               target  \\\n",
       "0        4500000.0   1937   1945           China  Japanese occupation   \n",
       "1        2000000.0   1977   1979            Iran    Shah Reza Pahlavi   \n",
       "2        2000000.0   1986   1983     Philippines     Ferdinand Marcos   \n",
       "3        1000000.0   1988   1988           Burma       military junta   \n",
       "4        1000000.0   1989   1989           China     Communist regime   \n",
       "5        1000000.0   1967   1968           China         anti-Maoists   \n",
       "6        1000000.0   1922   1949           China    Kuomintang regime   \n",
       "7        1000000.0   2006   2006          Mexico      Calderon regime   \n",
       "8        1000000.0   2005   2005         Lebanon        Syrian forces   \n",
       "9        1000000.0   1993   1999         Nigeria        Military rule   \n",
       "10       1000000.0   1984   1985          Brazil        Military rule   \n",
       "11        700000.0   1990   1991          Russia            Anti-coup   \n",
       "12        700000.0   1983   1989           Chile     Augusto Pinochet   \n",
       "13        550000.0   1956   1957           China     Communist regime   \n",
       "14        500000.0   1989   1989  Czechoslovakia     Communist regime   \n",
       "15        500000.0   2002   2003      Madagascar     Radsiraka regime   \n",
       "16        500000.0   1963   1963          Greece    Karamanlis regime   \n",
       "17        500000.0   2001   2004         Ukraine        Kuchma regime   \n",
       "18        500000.0   2001   2001     Philippines       Estrada regime   \n",
       "19        400000.0   1941   1945            USSR      Nazi occupation   \n",
       "20        400000.0   1991   1993      Madagascar     Didier Radsiraka   \n",
       "21        400000.0   1953   1953    East Germany     Communist regime   \n",
       "22        340000.0   1958   1975         Vietnam      U.S. occupation   \n",
       "23        300000.0   1943   1945           Italy      Nazi occupation   \n",
       "24        300000.0   1944   1944          Poland    German occupation   \n",
       "\n",
       "          viol        success  \n",
       "0      violent      succesful  \n",
       "1   nonviolent  non-succesful  \n",
       "2   nonviolent  non-succesful  \n",
       "3   nonviolent      succesful  \n",
       "4   nonviolent      succesful  \n",
       "5      violent      succesful  \n",
       "6      violent  non-succesful  \n",
       "7   nonviolent      succesful  \n",
       "8   nonviolent  non-succesful  \n",
       "9   nonviolent  non-succesful  \n",
       "10  nonviolent  non-succesful  \n",
       "11  nonviolent  non-succesful  \n",
       "12  nonviolent  non-succesful  \n",
       "13  nonviolent      succesful  \n",
       "14  nonviolent  non-succesful  \n",
       "15  nonviolent  non-succesful  \n",
       "16  nonviolent  non-succesful  \n",
       "17  nonviolent  non-succesful  \n",
       "18  nonviolent  non-succesful  \n",
       "19     violent      succesful  \n",
       "20  nonviolent  non-succesful  \n",
       "21  nonviolent      succesful  \n",
       "22     violent  non-succesful  \n",
       "23     violent      succesful  \n",
       "24     violent      succesful  "
      ]
     },
     "execution_count": 22,
     "metadata": {},
     "output_type": "execute_result"
    }
   ],
   "source": [
    "peakmemb"
   ]
  },
  {
   "cell_type": "markdown",
   "metadata": {
    "slideshow": {
     "slide_type": "slide"
    }
   },
   "source": [
    "### Karamanlis Regime, Greece 1963\n",
    "After 8 years of governance, in 1963 the Prime Minister Konstantinos Karamanlis submits his resignation due to strong arguments with king Pavlos. The whole political story begins in 1961 when Greece faces a strong political crisis due to the doubts that a big part of the citizens and politicians had about the reliability of the outcome in the elections of October 1961. It is true that external coordinates such as the army and the king affected the people in favor of Karamanlis' Regime in order to direct the outcome of the elections. This conspiracy theory was examined by the era's people and politicians and leaded to an unstable political situation in Greece. The relationship between king Pavlos and the prime minister started to break down. The \"Central Union\" (political party of the era) started pressing the king in order to force Karamanlis to quit. Except for the fact that the king was intentionally involved in this intrigue, the subject addressed constitutional issues which did not really leave the king any other choice, rather than apply pressure on the PM. Karamanlis was continuously charged even from the queen with having played such unethical political games. He eventually resigned from his political duties in 11 June 1963, which leaded to the campaign we are examining in this project.\n",
    "\n",
    "Source: https://www.kathimerini.gr/853741/article/epikairothta/ellada/h-paraithsh-toy-kwn-karamanlh"
   ]
  },
  {
   "cell_type": "markdown",
   "metadata": {
    "slideshow": {
     "slide_type": "slide"
    }
   },
   "source": [
    "## Question 5\n",
    "***\n",
    "### The fifth question contains:\n",
    "- a logistic regression, examining the effect of participation on the probability of campaign success, taking also into consideration the location's population"
   ]
  },
  {
   "cell_type": "markdown",
   "metadata": {
    "slideshow": {
     "slide_type": "slide"
    }
   },
   "source": [
    "We create a dataframe containing the data we are interested in, `success`, `lnpop`, `mempc` and `location`: \n",
    "- success: expresses a dichotomous variable which is 0 for non-succesful and 1 for succesful campaigns,\n",
    "- lnpop: expresses the location's logged population the year the campaign ends\n",
    "- mempc: expresses the membership per capita for each campaign\n",
    "- location: we also select the column related to the campaign's location in order to have some information that differentiate the campaigns with each other, but it is not necessary for the regression\n",
    "\n",
    "We, then, run the logistic regression that will give us the odds of success for each lnpop and mempc."
   ]
  },
  {
   "cell_type": "code",
   "execution_count": 23,
   "metadata": {
    "slideshow": {
     "slide_type": "fragment"
    }
   },
   "outputs": [
    {
     "name": "stdout",
     "output_type": "stream",
     "text": [
      "Optimization terminated successfully.\n",
      "         Current function value: 0.594790\n",
      "         Iterations 5\n"
     ]
    },
    {
     "data": {
      "text/plain": [
       "Intercept   -5.819861\n",
       "mempc        4.489174\n",
       "lnpop        0.090722\n",
       "dtype: float64"
      ]
     },
     "execution_count": 23,
     "metadata": {},
     "output_type": "execute_result"
    }
   ],
   "source": [
    "logreg_data = data[[\"location\", \"success\", \"lnpop\", \"mempc\"]].dropna().\\\n",
    "              reset_index(drop=True)\n",
    "suconmemb_mod = logit(\"success ~ mempc + lnpop\", logreg_data).fit()\n",
    "suconmemb_mod.params"
   ]
  },
  {
   "cell_type": "code",
   "execution_count": 24,
   "metadata": {
    "slideshow": {
     "slide_type": "slide"
    }
   },
   "outputs": [
    {
     "data": {
      "text/html": [
       "<table class=\"simpletable\">\n",
       "<caption>Logit Regression Results</caption>\n",
       "<tr>\n",
       "  <th>Dep. Variable:</th>        <td>success</td>     <th>  No. Observations:  </th>  <td>   163</td>  \n",
       "</tr>\n",
       "<tr>\n",
       "  <th>Model:</th>                 <td>Logit</td>      <th>  Df Residuals:      </th>  <td>   160</td>  \n",
       "</tr>\n",
       "<tr>\n",
       "  <th>Method:</th>                 <td>MLE</td>       <th>  Df Model:          </th>  <td>     2</td>  \n",
       "</tr>\n",
       "<tr>\n",
       "  <th>Date:</th>            <td>Sun, 01 Dec 2019</td> <th>  Pseudo R-squ.:     </th>  <td>0.1294</td>  \n",
       "</tr>\n",
       "<tr>\n",
       "  <th>Time:</th>                <td>21:18:24</td>     <th>  Log-Likelihood:    </th> <td> -96.951</td> \n",
       "</tr>\n",
       "<tr>\n",
       "  <th>converged:</th>             <td>True</td>       <th>  LL-Null:           </th> <td> -111.35</td> \n",
       "</tr>\n",
       "<tr>\n",
       "  <th>Covariance Type:</th>     <td>nonrobust</td>    <th>  LLR p-value:       </th> <td>5.551e-07</td>\n",
       "</tr>\n",
       "</table>\n",
       "<table class=\"simpletable\">\n",
       "<tr>\n",
       "      <td></td>         <th>coef</th>     <th>std err</th>      <th>z</th>      <th>P>|z|</th>  <th>[0.025</th>    <th>0.975]</th>  \n",
       "</tr>\n",
       "<tr>\n",
       "  <th>Intercept</th> <td>   -5.8199</td> <td>    1.921</td> <td>   -3.030</td> <td> 0.002</td> <td>   -9.584</td> <td>   -2.055</td>\n",
       "</tr>\n",
       "<tr>\n",
       "  <th>mempc</th>     <td>    4.4892</td> <td>    0.986</td> <td>    4.554</td> <td> 0.000</td> <td>    2.557</td> <td>    6.421</td>\n",
       "</tr>\n",
       "<tr>\n",
       "  <th>lnpop</th>     <td>    0.0907</td> <td>    0.129</td> <td>    0.706</td> <td> 0.480</td> <td>   -0.161</td> <td>    0.343</td>\n",
       "</tr>\n",
       "</table>"
      ],
      "text/plain": [
       "<class 'statsmodels.iolib.summary.Summary'>\n",
       "\"\"\"\n",
       "                           Logit Regression Results                           \n",
       "==============================================================================\n",
       "Dep. Variable:                success   No. Observations:                  163\n",
       "Model:                          Logit   Df Residuals:                      160\n",
       "Method:                           MLE   Df Model:                            2\n",
       "Date:                Sun, 01 Dec 2019   Pseudo R-squ.:                  0.1294\n",
       "Time:                        21:18:24   Log-Likelihood:                -96.951\n",
       "converged:                       True   LL-Null:                       -111.35\n",
       "Covariance Type:            nonrobust   LLR p-value:                 5.551e-07\n",
       "==============================================================================\n",
       "                 coef    std err          z      P>|z|      [0.025      0.975]\n",
       "------------------------------------------------------------------------------\n",
       "Intercept     -5.8199      1.921     -3.030      0.002      -9.584      -2.055\n",
       "mempc          4.4892      0.986      4.554      0.000       2.557       6.421\n",
       "lnpop          0.0907      0.129      0.706      0.480      -0.161       0.343\n",
       "==============================================================================\n",
       "\"\"\""
      ]
     },
     "execution_count": 24,
     "metadata": {},
     "output_type": "execute_result"
    }
   ],
   "source": [
    "suconmemb_mod.summary()"
   ]
  },
  {
   "cell_type": "markdown",
   "metadata": {
    "slideshow": {
     "slide_type": "slide"
    }
   },
   "source": [
    "We are going to focus on the parameters that will help us understand the relationship between the dependent (success) and the independent (mempc, lnpop) variables:\n",
    "-  **Intercept:** there is actually no reason to examine the _Intercept_ parameter as it is basically meaningful when the independent values are sometimes equal to 0, because it expresses the expected mean value of the dependent variable when all independent ones = 0. <br />\n",
    "- **Pseudo R-squared:** the fact that pseudo R-squred is not that close to 1 indicates that the model does not describe the success of campaigns based on `mempc` and `lnpop` that succesfuly. There might be more factors that should be included in order to predict better."
   ]
  },
  {
   "cell_type": "markdown",
   "metadata": {
    "slideshow": {
     "slide_type": "slide"
    }
   },
   "source": [
    "- **coefficients (coef):** \n",
    "    - the coefficient for `mempc` indicates the estimated change in the natural log of the odds for the success of a campaign for each unit increase of a mempc value. For example, the 4.4892 coefficient shows that the natural log of the odds increases by 4.4892 for each additional member per capita. In order to explain further we can calculate the odds ratio for when the predictor (mempc) is x+1, compared to when the predictor is x, by exponentiating the coef of mempc: `e ^ (4.4892) = 89,05`. That is, each additional member per capita leads to a ~89 fold increase in the odds of success of a campaign. Due to the fact that this numbers seems a bit large we see that maybe we should have scaled the data in order to have more realistic results.\n",
    "    - the coefficient for `lnpop` indicates the change to the odds of success if we increase the logged population by one unit. Furthermore, if the odds ratio for lnpop equals `e ^ (0.0907) = 1,09` then each additional unit in logged population gives a 1.09 increase to the odds of a campaign's success. "
   ]
  },
  {
   "cell_type": "markdown",
   "metadata": {
    "slideshow": {
     "slide_type": "slide"
    }
   },
   "source": [
    "- **P value:** \n",
    "    - the P value of `mempc` seems to be 0.000 but it is not actually equal to 0, but less than 0.001. However, this means that the result that mempc produced was very significant for our prediction and should not be rejected. In other words we should reject the null hypothesis (which means no relationship between the 2 variables), and admit that there is truly a relationship between the two variables. That also leads to the conclusion that the relationship between the members' participation and the success of a campaign is not due to chance."
   ]
  },
  {
   "cell_type": "markdown",
   "metadata": {
    "slideshow": {
     "slide_type": "slide"
    }
   },
   "source": [
    "Our scatter plot is ready to be visualized. The **y axis** shows the possibility the regression calculated, and the **x axis** shows the participants per capita logged.\n",
    "***\n",
    "Note: the `.predict()` method gives us the possibility we use in the y axis."
   ]
  },
  {
   "cell_type": "code",
   "execution_count": 25,
   "metadata": {
    "slideshow": {
     "slide_type": "slide"
    }
   },
   "outputs": [
    {
     "data": {
      "image/png": "[encoded data removed]",
      "text/plain": [
       "<Figure size 1224x864 with 1 Axes>"
      ]
     },
     "metadata": {
      "needs_background": "light"
     },
     "output_type": "display_data"
    }
   ],
   "source": [
    "fig = plt.figure(figsize=(17,12))\n",
    "ax = fig.add_subplot(111)\n",
    "x = logreg_data.mempc\n",
    "y = suconmemb_mod.predict()\n",
    "ax.scatter(x, y)\n",
    "ax.set_xlabel(\"Participants per Capita, logged\", size=13)\n",
    "ax.set_ylabel(\"Probability of Success\", size=13)\n",
    "ax.grid()\n",
    "ax.set_axisbelow(True)"
   ]
  },
  {
   "cell_type": "markdown",
   "metadata": {
    "slideshow": {
     "slide_type": "slide"
    }
   },
   "source": [
    "## Question 6\n",
    "***\n",
    "### The sixth question contains:\n",
    "- the proper calculation in order to find the percentage of the population that is the tipping point for success in a campaign"
   ]
  },
  {
   "cell_type": "markdown",
   "metadata": {
    "slideshow": {
     "slide_type": "slide"
    }
   },
   "source": [
    "We add a column in the dataframe we extracted in question 6 named `success_proba` that expresses the probability we calculated using the logistic regression."
   ]
  },
  {
   "cell_type": "code",
   "execution_count": 26,
   "metadata": {
    "slideshow": {
     "slide_type": "fragment"
    }
   },
   "outputs": [
    {
     "data": {
      "text/html": [
       "<div>\n",
       "<style scoped>\n",
       "    .dataframe tbody tr th:only-of-type {\n",
       "        vertical-align: middle;\n",
       "    }\n",
       "\n",
       "    .dataframe tbody tr th {\n",
       "        vertical-align: top;\n",
       "    }\n",
       "\n",
       "    .dataframe thead th {\n",
       "        text-align: right;\n",
       "    }\n",
       "</style>\n",
       "<table border=\"1\" class=\"dataframe\">\n",
       "  <thead>\n",
       "    <tr style=\"text-align: right;\">\n",
       "      <th></th>\n",
       "      <th>location</th>\n",
       "      <th>success</th>\n",
       "      <th>lnpop</th>\n",
       "      <th>mempc</th>\n",
       "      <th>success_proba</th>\n",
       "    </tr>\n",
       "  </thead>\n",
       "  <tbody>\n",
       "    <tr>\n",
       "      <th>0</th>\n",
       "      <td>Cuba</td>\n",
       "      <td>1</td>\n",
       "      <td>8.819231</td>\n",
       "      <td>1.226839</td>\n",
       "      <td>0.619573</td>\n",
       "    </tr>\n",
       "    <tr>\n",
       "      <th>1</th>\n",
       "      <td>Haiti</td>\n",
       "      <td>1</td>\n",
       "      <td>8.585698</td>\n",
       "      <td>1.200712</td>\n",
       "      <td>0.586438</td>\n",
       "    </tr>\n",
       "    <tr>\n",
       "      <th>2</th>\n",
       "      <td>Mexico</td>\n",
       "      <td>1</td>\n",
       "      <td>11.499098</td>\n",
       "      <td>1.001202</td>\n",
       "      <td>0.429948</td>\n",
       "    </tr>\n",
       "    <tr>\n",
       "      <th>3</th>\n",
       "      <td>Guatemala</td>\n",
       "      <td>1</td>\n",
       "      <td>8.083094</td>\n",
       "      <td>0.741234</td>\n",
       "      <td>0.146914</td>\n",
       "    </tr>\n",
       "    <tr>\n",
       "      <th>4</th>\n",
       "      <td>Guatemala</td>\n",
       "      <td>0</td>\n",
       "      <td>9.317105</td>\n",
       "      <td>0.784924</td>\n",
       "      <td>0.189858</td>\n",
       "    </tr>\n",
       "  </tbody>\n",
       "</table>\n",
       "</div>"
      ],
      "text/plain": [
       "    location  success      lnpop     mempc  success_proba\n",
       "0       Cuba        1   8.819231  1.226839       0.619573\n",
       "1      Haiti        1   8.585698  1.200712       0.586438\n",
       "2     Mexico        1  11.499098  1.001202       0.429948\n",
       "3  Guatemala        1   8.083094  0.741234       0.146914\n",
       "4  Guatemala        0   9.317105  0.784924       0.189858"
      ]
     },
     "execution_count": 26,
     "metadata": {},
     "output_type": "execute_result"
    }
   ],
   "source": [
    "logreg_data['success_proba'] = suconmemb_mod.predict()\n",
    "logreg_data.head()"
   ]
  },
  {
   "cell_type": "markdown",
   "metadata": {
    "slideshow": {
     "slide_type": "slide"
    }
   },
   "source": [
    "We are interested in the percentage of the population that is the tipping point for the success of a campaign. So, we extract the columns needed from the original dataframe `data`."
   ]
  },
  {
   "cell_type": "code",
   "execution_count": 27,
   "metadata": {
    "slideshow": {
     "slide_type": "fragment"
    }
   },
   "outputs": [
    {
     "data": {
      "text/html": [
       "<div>\n",
       "<style scoped>\n",
       "    .dataframe tbody tr th:only-of-type {\n",
       "        vertical-align: middle;\n",
       "    }\n",
       "\n",
       "    .dataframe tbody tr th {\n",
       "        vertical-align: top;\n",
       "    }\n",
       "\n",
       "    .dataframe thead th {\n",
       "        text-align: right;\n",
       "    }\n",
       "</style>\n",
       "<table border=\"1\" class=\"dataframe\">\n",
       "  <thead>\n",
       "    <tr style=\"text-align: right;\">\n",
       "      <th></th>\n",
       "      <th>location</th>\n",
       "      <th>lnpop</th>\n",
       "      <th>mempc</th>\n",
       "    </tr>\n",
       "  </thead>\n",
       "  <tbody>\n",
       "    <tr>\n",
       "      <th>158</th>\n",
       "      <td>Philippines</td>\n",
       "      <td>10.955847</td>\n",
       "      <td>1.324284</td>\n",
       "    </tr>\n",
       "    <tr>\n",
       "      <th>159</th>\n",
       "      <td>Philippines</td>\n",
       "      <td>11.286525</td>\n",
       "      <td>1.162657</td>\n",
       "    </tr>\n",
       "    <tr>\n",
       "      <th>160</th>\n",
       "      <td>Indonesia</td>\n",
       "      <td>12.379339</td>\n",
       "      <td>0.659205</td>\n",
       "    </tr>\n",
       "    <tr>\n",
       "      <th>161</th>\n",
       "      <td>Indonesia</td>\n",
       "      <td>12.268933</td>\n",
       "      <td>0.750704</td>\n",
       "    </tr>\n",
       "    <tr>\n",
       "      <th>162</th>\n",
       "      <td>Papua New Guinea</td>\n",
       "      <td>8.427487</td>\n",
       "      <td>0.901918</td>\n",
       "    </tr>\n",
       "  </tbody>\n",
       "</table>\n",
       "</div>"
      ],
      "text/plain": [
       "             location      lnpop     mempc\n",
       "158       Philippines  10.955847  1.324284\n",
       "159       Philippines  11.286525  1.162657\n",
       "160         Indonesia  12.379339  0.659205\n",
       "161         Indonesia  12.268933  0.750704\n",
       "162  Papua New Guinea   8.427487  0.901918"
      ]
     },
     "execution_count": 27,
     "metadata": {},
     "output_type": "execute_result"
    }
   ],
   "source": [
    "peakm = data[['location', 'lnpop', 'mempc']].\\\n",
    "        dropna().reset_index(drop=True)\n",
    "peakm.tail()"
   ]
  },
  {
   "cell_type": "markdown",
   "metadata": {
    "slideshow": {
     "slide_type": "fragment"
    }
   },
   "source": [
    "Note: There are no `NaN` values so the matching with the dataframe we used to do the logistic regression is in the same index with the values of this dataframe."
   ]
  },
  {
   "cell_type": "markdown",
   "metadata": {
    "slideshow": {
     "slide_type": "slide"
    }
   },
   "source": [
    "Whether a campaign is going to be succesful or not results from the principals of statistics. It is 50/50 for each case. So, the possibility of a campaign being succesful is every value over 0.5 (50%). Every value of this possibility (over 50%) that corresponds with the population gives us the percentages of the population needed for a campaign in order to be succesful."
   ]
  },
  {
   "cell_type": "code",
   "execution_count": 28,
   "metadata": {
    "slideshow": {
     "slide_type": "fragment"
    }
   },
   "outputs": [
    {
     "data": {
      "text/html": [
       "<div>\n",
       "<style scoped>\n",
       "    .dataframe tbody tr th:only-of-type {\n",
       "        vertical-align: middle;\n",
       "    }\n",
       "\n",
       "    .dataframe tbody tr th {\n",
       "        vertical-align: top;\n",
       "    }\n",
       "\n",
       "    .dataframe thead th {\n",
       "        text-align: right;\n",
       "    }\n",
       "</style>\n",
       "<table border=\"1\" class=\"dataframe\">\n",
       "  <thead>\n",
       "    <tr style=\"text-align: right;\">\n",
       "      <th></th>\n",
       "      <th>location</th>\n",
       "      <th>success</th>\n",
       "      <th>lnpop</th>\n",
       "      <th>mempc</th>\n",
       "      <th>success_proba</th>\n",
       "    </tr>\n",
       "  </thead>\n",
       "  <tbody>\n",
       "    <tr>\n",
       "      <th>0</th>\n",
       "      <td>Cuba</td>\n",
       "      <td>1</td>\n",
       "      <td>8.819231</td>\n",
       "      <td>1.226839</td>\n",
       "      <td>0.619573</td>\n",
       "    </tr>\n",
       "    <tr>\n",
       "      <th>1</th>\n",
       "      <td>Haiti</td>\n",
       "      <td>1</td>\n",
       "      <td>8.585698</td>\n",
       "      <td>1.200712</td>\n",
       "      <td>0.586438</td>\n",
       "    </tr>\n",
       "    <tr>\n",
       "      <th>2</th>\n",
       "      <td>Nicaragua</td>\n",
       "      <td>0</td>\n",
       "      <td>8.161110</td>\n",
       "      <td>1.165337</td>\n",
       "      <td>0.537911</td>\n",
       "    </tr>\n",
       "    <tr>\n",
       "      <th>3</th>\n",
       "      <td>Venezuela</td>\n",
       "      <td>1</td>\n",
       "      <td>10.097724</td>\n",
       "      <td>1.208794</td>\n",
       "      <td>0.627783</td>\n",
       "    </tr>\n",
       "    <tr>\n",
       "      <th>4</th>\n",
       "      <td>Guyana</td>\n",
       "      <td>1</td>\n",
       "      <td>6.603117</td>\n",
       "      <td>1.289875</td>\n",
       "      <td>0.638685</td>\n",
       "    </tr>\n",
       "  </tbody>\n",
       "</table>\n",
       "</div>"
      ],
      "text/plain": [
       "    location  success      lnpop     mempc  success_proba\n",
       "0       Cuba        1   8.819231  1.226839       0.619573\n",
       "1      Haiti        1   8.585698  1.200712       0.586438\n",
       "2  Nicaragua        0   8.161110  1.165337       0.537911\n",
       "3  Venezuela        1  10.097724  1.208794       0.627783\n",
       "4     Guyana        1   6.603117  1.289875       0.638685"
      ]
     },
     "execution_count": 28,
     "metadata": {},
     "output_type": "execute_result"
    }
   ],
   "source": [
    "possible_camps = logreg_data[logreg_data['success_proba'] > 0.50].reset_index(drop=True)\n",
    "possible_camps.head()"
   ]
  },
  {
   "cell_type": "markdown",
   "metadata": {
    "slideshow": {
     "slide_type": "slide"
    }
   },
   "source": [
    "We need to find the unlogged number of members that participated in each campaign. From the documentation, we find that `mempc = lmembers / lnpop`, so `lmembers = mempc * lnpop`. We use the `np.exp()` method in order to unlog the values of column `members`. <br />\n",
    "\n",
    "Note:\n",
    "- if we look at the original dataframe `data` we will see that `members` and `peakmembership` are equal to each other, so the calculation is correct."
   ]
  },
  {
   "cell_type": "code",
   "execution_count": 29,
   "metadata": {
    "slideshow": {
     "slide_type": "fragment"
    }
   },
   "outputs": [
    {
     "data": {
      "text/html": [
       "<div>\n",
       "<style scoped>\n",
       "    .dataframe tbody tr th:only-of-type {\n",
       "        vertical-align: middle;\n",
       "    }\n",
       "\n",
       "    .dataframe tbody tr th {\n",
       "        vertical-align: top;\n",
       "    }\n",
       "\n",
       "    .dataframe thead th {\n",
       "        text-align: right;\n",
       "    }\n",
       "</style>\n",
       "<table border=\"1\" class=\"dataframe\">\n",
       "  <thead>\n",
       "    <tr style=\"text-align: right;\">\n",
       "      <th></th>\n",
       "      <th>location</th>\n",
       "      <th>success</th>\n",
       "      <th>lnpop</th>\n",
       "      <th>mempc</th>\n",
       "      <th>success_proba</th>\n",
       "      <th>members</th>\n",
       "    </tr>\n",
       "  </thead>\n",
       "  <tbody>\n",
       "    <tr>\n",
       "      <th>0</th>\n",
       "      <td>Cuba</td>\n",
       "      <td>1</td>\n",
       "      <td>8.819231</td>\n",
       "      <td>1.226839</td>\n",
       "      <td>0.619573</td>\n",
       "      <td>50000</td>\n",
       "    </tr>\n",
       "    <tr>\n",
       "      <th>1</th>\n",
       "      <td>Haiti</td>\n",
       "      <td>1</td>\n",
       "      <td>8.585698</td>\n",
       "      <td>1.200712</td>\n",
       "      <td>0.586438</td>\n",
       "      <td>29999</td>\n",
       "    </tr>\n",
       "    <tr>\n",
       "      <th>2</th>\n",
       "      <td>Nicaragua</td>\n",
       "      <td>0</td>\n",
       "      <td>8.161110</td>\n",
       "      <td>1.165337</td>\n",
       "      <td>0.537911</td>\n",
       "      <td>13499</td>\n",
       "    </tr>\n",
       "    <tr>\n",
       "      <th>3</th>\n",
       "      <td>Venezuela</td>\n",
       "      <td>1</td>\n",
       "      <td>10.097724</td>\n",
       "      <td>1.208794</td>\n",
       "      <td>0.627783</td>\n",
       "      <td>200000</td>\n",
       "    </tr>\n",
       "    <tr>\n",
       "      <th>4</th>\n",
       "      <td>Guyana</td>\n",
       "      <td>1</td>\n",
       "      <td>6.603117</td>\n",
       "      <td>1.289875</td>\n",
       "      <td>0.638685</td>\n",
       "      <td>4999</td>\n",
       "    </tr>\n",
       "  </tbody>\n",
       "</table>\n",
       "</div>"
      ],
      "text/plain": [
       "    location  success      lnpop     mempc  success_proba  members\n",
       "0       Cuba        1   8.819231  1.226839       0.619573    50000\n",
       "1      Haiti        1   8.585698  1.200712       0.586438    29999\n",
       "2  Nicaragua        0   8.161110  1.165337       0.537911    13499\n",
       "3  Venezuela        1  10.097724  1.208794       0.627783   200000\n",
       "4     Guyana        1   6.603117  1.289875       0.638685     4999"
      ]
     },
     "execution_count": 29,
     "metadata": {},
     "output_type": "execute_result"
    }
   ],
   "source": [
    "possible_camps['members'] = np.exp(possible_camps['lnpop'] * possible_camps['mempc']).astype(int)\n",
    "possible_camps.head()"
   ]
  },
  {
   "cell_type": "markdown",
   "metadata": {
    "slideshow": {
     "slide_type": "slide"
    }
   },
   "source": [
    "It is necessary to find the real location's population, but we only have the logged populations. We use the `np.exp()` method again to create the column `pop`.\n",
    "***\n",
    "Something very interesting here is that the result of this calculation gives a weirdly low number comparing it to the number of members that took part in each campaign. After searching for the countrys' [populations during the 20th century](https://www.populationpyramid.net/), I found that we need to multiply the result of this calculation with 1000 in order to have the actual population. The only country whose population gave an inaccurate number was France. The data we have give 11 millions for France's population, but the search engine gives a continuously augmenting number starting from 40 millions from 1950 onwards. We would consider France as an **outlier** but at this point we do not have any campaign that took place in France."
   ]
  },
  {
   "cell_type": "code",
   "execution_count": 30,
   "metadata": {
    "slideshow": {
     "slide_type": "fragment"
    }
   },
   "outputs": [
    {
     "name": "stdout",
     "output_type": "stream",
     "text": [
      "Number of records related to France:\n",
      "0\n"
     ]
    },
    {
     "data": {
      "text/html": [
       "<div>\n",
       "<style scoped>\n",
       "    .dataframe tbody tr th:only-of-type {\n",
       "        vertical-align: middle;\n",
       "    }\n",
       "\n",
       "    .dataframe tbody tr th {\n",
       "        vertical-align: top;\n",
       "    }\n",
       "\n",
       "    .dataframe thead th {\n",
       "        text-align: right;\n",
       "    }\n",
       "</style>\n",
       "<table border=\"1\" class=\"dataframe\">\n",
       "  <thead>\n",
       "    <tr style=\"text-align: right;\">\n",
       "      <th></th>\n",
       "      <th>location</th>\n",
       "      <th>success</th>\n",
       "      <th>lnpop</th>\n",
       "      <th>mempc</th>\n",
       "      <th>success_proba</th>\n",
       "      <th>members</th>\n",
       "      <th>pop</th>\n",
       "    </tr>\n",
       "  </thead>\n",
       "  <tbody>\n",
       "    <tr>\n",
       "      <th>0</th>\n",
       "      <td>Cuba</td>\n",
       "      <td>1</td>\n",
       "      <td>8.819231</td>\n",
       "      <td>1.226839</td>\n",
       "      <td>0.619573</td>\n",
       "      <td>50000</td>\n",
       "      <td>6763062</td>\n",
       "    </tr>\n",
       "    <tr>\n",
       "      <th>1</th>\n",
       "      <td>Haiti</td>\n",
       "      <td>1</td>\n",
       "      <td>8.585698</td>\n",
       "      <td>1.200712</td>\n",
       "      <td>0.586438</td>\n",
       "      <td>29999</td>\n",
       "      <td>5354530</td>\n",
       "    </tr>\n",
       "    <tr>\n",
       "      <th>2</th>\n",
       "      <td>Nicaragua</td>\n",
       "      <td>0</td>\n",
       "      <td>8.161110</td>\n",
       "      <td>1.165337</td>\n",
       "      <td>0.537911</td>\n",
       "      <td>13499</td>\n",
       "      <td>3502071</td>\n",
       "    </tr>\n",
       "    <tr>\n",
       "      <th>3</th>\n",
       "      <td>Venezuela</td>\n",
       "      <td>1</td>\n",
       "      <td>10.097724</td>\n",
       "      <td>1.208794</td>\n",
       "      <td>0.627783</td>\n",
       "      <td>200000</td>\n",
       "      <td>24287666</td>\n",
       "    </tr>\n",
       "    <tr>\n",
       "      <th>4</th>\n",
       "      <td>Guyana</td>\n",
       "      <td>1</td>\n",
       "      <td>6.603117</td>\n",
       "      <td>1.289875</td>\n",
       "      <td>0.638685</td>\n",
       "      <td>4999</td>\n",
       "      <td>737390</td>\n",
       "    </tr>\n",
       "  </tbody>\n",
       "</table>\n",
       "</div>"
      ],
      "text/plain": [
       "    location  success      lnpop     mempc  success_proba  members       pop\n",
       "0       Cuba        1   8.819231  1.226839       0.619573    50000   6763062\n",
       "1      Haiti        1   8.585698  1.200712       0.586438    29999   5354530\n",
       "2  Nicaragua        0   8.161110  1.165337       0.537911    13499   3502071\n",
       "3  Venezuela        1  10.097724  1.208794       0.627783   200000  24287666\n",
       "4     Guyana        1   6.603117  1.289875       0.638685     4999    737390"
      ]
     },
     "execution_count": 30,
     "metadata": {},
     "output_type": "execute_result"
    }
   ],
   "source": [
    "print(\"Number of records related to France:\")\n",
    "print(len(possible_camps[possible_camps.location=='France']))\n",
    "possible_camps['pop'] = (1000 * (np.exp(possible_camps.lnpop))).astype(int)\n",
    "possible_camps.head()"
   ]
  },
  {
   "cell_type": "markdown",
   "metadata": {
    "slideshow": {
     "slide_type": "slide"
    }
   },
   "source": [
    "We join the two dataframes `possible_camps` and `peakm` in order to have a single dataframe for the results we have found. We set location, lnpop and mempc as index in order to match the records correctly."
   ]
  },
  {
   "cell_type": "code",
   "execution_count": 31,
   "metadata": {
    "slideshow": {
     "slide_type": "fragment"
    }
   },
   "outputs": [
    {
     "data": {
      "text/html": [
       "<div>\n",
       "<style scoped>\n",
       "    .dataframe tbody tr th:only-of-type {\n",
       "        vertical-align: middle;\n",
       "    }\n",
       "\n",
       "    .dataframe tbody tr th {\n",
       "        vertical-align: top;\n",
       "    }\n",
       "\n",
       "    .dataframe thead th {\n",
       "        text-align: right;\n",
       "    }\n",
       "</style>\n",
       "<table border=\"1\" class=\"dataframe\">\n",
       "  <thead>\n",
       "    <tr style=\"text-align: right;\">\n",
       "      <th></th>\n",
       "      <th>location</th>\n",
       "      <th>lnpop</th>\n",
       "      <th>mempc</th>\n",
       "      <th>success</th>\n",
       "      <th>success_proba</th>\n",
       "      <th>members</th>\n",
       "      <th>pop</th>\n",
       "    </tr>\n",
       "  </thead>\n",
       "  <tbody>\n",
       "    <tr>\n",
       "      <th>0</th>\n",
       "      <td>Cuba</td>\n",
       "      <td>8.819231</td>\n",
       "      <td>1.226839</td>\n",
       "      <td>1</td>\n",
       "      <td>0.619573</td>\n",
       "      <td>50000</td>\n",
       "      <td>6763062</td>\n",
       "    </tr>\n",
       "    <tr>\n",
       "      <th>1</th>\n",
       "      <td>Haiti</td>\n",
       "      <td>8.585698</td>\n",
       "      <td>1.200712</td>\n",
       "      <td>1</td>\n",
       "      <td>0.586438</td>\n",
       "      <td>29999</td>\n",
       "      <td>5354530</td>\n",
       "    </tr>\n",
       "    <tr>\n",
       "      <th>2</th>\n",
       "      <td>Nicaragua</td>\n",
       "      <td>8.161110</td>\n",
       "      <td>1.165337</td>\n",
       "      <td>0</td>\n",
       "      <td>0.537911</td>\n",
       "      <td>13499</td>\n",
       "      <td>3502071</td>\n",
       "    </tr>\n",
       "    <tr>\n",
       "      <th>3</th>\n",
       "      <td>Venezuela</td>\n",
       "      <td>10.097724</td>\n",
       "      <td>1.208794</td>\n",
       "      <td>1</td>\n",
       "      <td>0.627783</td>\n",
       "      <td>200000</td>\n",
       "      <td>24287666</td>\n",
       "    </tr>\n",
       "    <tr>\n",
       "      <th>4</th>\n",
       "      <td>Guyana</td>\n",
       "      <td>6.603117</td>\n",
       "      <td>1.289875</td>\n",
       "      <td>1</td>\n",
       "      <td>0.638685</td>\n",
       "      <td>4999</td>\n",
       "      <td>737390</td>\n",
       "    </tr>\n",
       "  </tbody>\n",
       "</table>\n",
       "</div>"
      ],
      "text/plain": [
       "    location      lnpop     mempc  success  success_proba  members       pop\n",
       "0       Cuba   8.819231  1.226839        1       0.619573    50000   6763062\n",
       "1      Haiti   8.585698  1.200712        1       0.586438    29999   5354530\n",
       "2  Nicaragua   8.161110  1.165337        0       0.537911    13499   3502071\n",
       "3  Venezuela  10.097724  1.208794        1       0.627783   200000  24287666\n",
       "4     Guyana   6.603117  1.289875        1       0.638685     4999    737390"
      ]
     },
     "execution_count": 31,
     "metadata": {},
     "output_type": "execute_result"
    }
   ],
   "source": [
    "possible_camps = (possible_camps.set_index(['location', 'lnpop', 'mempc']).\\\n",
    "            join(peakm.set_index(['location', 'lnpop', 'mempc']))).reset_index()\n",
    "possible_camps.head()"
   ]
  },
  {
   "cell_type": "markdown",
   "metadata": {
    "slideshow": {
     "slide_type": "slide"
    }
   },
   "source": [
    "We are now ready to find the percentage of the population that participated in each succesful campaign. Thus we create column `pop_perc`."
   ]
  },
  {
   "cell_type": "code",
   "execution_count": 32,
   "metadata": {
    "scrolled": false,
    "slideshow": {
     "slide_type": "fragment"
    }
   },
   "outputs": [
    {
     "data": {
      "text/html": [
       "<div>\n",
       "<style scoped>\n",
       "    .dataframe tbody tr th:only-of-type {\n",
       "        vertical-align: middle;\n",
       "    }\n",
       "\n",
       "    .dataframe tbody tr th {\n",
       "        vertical-align: top;\n",
       "    }\n",
       "\n",
       "    .dataframe thead th {\n",
       "        text-align: right;\n",
       "    }\n",
       "</style>\n",
       "<table border=\"1\" class=\"dataframe\">\n",
       "  <thead>\n",
       "    <tr style=\"text-align: right;\">\n",
       "      <th></th>\n",
       "      <th>location</th>\n",
       "      <th>lnpop</th>\n",
       "      <th>mempc</th>\n",
       "      <th>success</th>\n",
       "      <th>success_proba</th>\n",
       "      <th>members</th>\n",
       "      <th>pop</th>\n",
       "      <th>pop_perc</th>\n",
       "    </tr>\n",
       "  </thead>\n",
       "  <tbody>\n",
       "    <tr>\n",
       "      <th>0</th>\n",
       "      <td>Cuba</td>\n",
       "      <td>8.819231</td>\n",
       "      <td>1.226839</td>\n",
       "      <td>1</td>\n",
       "      <td>0.619573</td>\n",
       "      <td>50000</td>\n",
       "      <td>6763062</td>\n",
       "      <td>0.007393</td>\n",
       "    </tr>\n",
       "    <tr>\n",
       "      <th>1</th>\n",
       "      <td>Haiti</td>\n",
       "      <td>8.585698</td>\n",
       "      <td>1.200712</td>\n",
       "      <td>1</td>\n",
       "      <td>0.586438</td>\n",
       "      <td>29999</td>\n",
       "      <td>5354530</td>\n",
       "      <td>0.005603</td>\n",
       "    </tr>\n",
       "    <tr>\n",
       "      <th>2</th>\n",
       "      <td>Nicaragua</td>\n",
       "      <td>8.161110</td>\n",
       "      <td>1.165337</td>\n",
       "      <td>0</td>\n",
       "      <td>0.537911</td>\n",
       "      <td>13499</td>\n",
       "      <td>3502071</td>\n",
       "      <td>0.003855</td>\n",
       "    </tr>\n",
       "    <tr>\n",
       "      <th>3</th>\n",
       "      <td>Venezuela</td>\n",
       "      <td>10.097724</td>\n",
       "      <td>1.208794</td>\n",
       "      <td>1</td>\n",
       "      <td>0.627783</td>\n",
       "      <td>200000</td>\n",
       "      <td>24287666</td>\n",
       "      <td>0.008235</td>\n",
       "    </tr>\n",
       "    <tr>\n",
       "      <th>4</th>\n",
       "      <td>Guyana</td>\n",
       "      <td>6.603117</td>\n",
       "      <td>1.289875</td>\n",
       "      <td>1</td>\n",
       "      <td>0.638685</td>\n",
       "      <td>4999</td>\n",
       "      <td>737390</td>\n",
       "      <td>0.006779</td>\n",
       "    </tr>\n",
       "  </tbody>\n",
       "</table>\n",
       "</div>"
      ],
      "text/plain": [
       "    location      lnpop     mempc  success  success_proba  members       pop  \\\n",
       "0       Cuba   8.819231  1.226839        1       0.619573    50000   6763062   \n",
       "1      Haiti   8.585698  1.200712        1       0.586438    29999   5354530   \n",
       "2  Nicaragua   8.161110  1.165337        0       0.537911    13499   3502071   \n",
       "3  Venezuela  10.097724  1.208794        1       0.627783   200000  24287666   \n",
       "4     Guyana   6.603117  1.289875        1       0.638685     4999    737390   \n",
       "\n",
       "   pop_perc  \n",
       "0  0.007393  \n",
       "1  0.005603  \n",
       "2  0.003855  \n",
       "3  0.008235  \n",
       "4  0.006779  "
      ]
     },
     "execution_count": 32,
     "metadata": {},
     "output_type": "execute_result"
    }
   ],
   "source": [
    "possible_camps['pop_perc'] = possible_camps['members'].astype(int) / possible_camps['pop']\n",
    "possible_camps.head()"
   ]
  },
  {
   "cell_type": "markdown",
   "metadata": {
    "slideshow": {
     "slide_type": "slide"
    }
   },
   "source": [
    "The minimum percentage of column `pop_perc` is the answer to our question; the percentage of the population that is the tipping point for a campaign to succeed.\n",
    "> Tipping point of population's percentage (%) for a succesful campaign:"
   ]
  },
  {
   "cell_type": "code",
   "execution_count": 38,
   "metadata": {
    "slideshow": {
     "slide_type": "fragment"
    }
   },
   "outputs": [
    {
     "name": "stdout",
     "output_type": "stream",
     "text": [
      "0.26\n"
     ]
    }
   ],
   "source": [
    "print((possible_camps.pop_perc.min()* 100).round(2))"
   ]
  },
  {
   "cell_type": "markdown",
   "metadata": {
    "slideshow": {
     "slide_type": "fragment"
    }
   },
   "source": [
    "The percentage corresponds to a campaign with 60,000 members in Cambodia which numbers 22,874,694 citizens."
   ]
  },
  {
   "cell_type": "markdown",
   "metadata": {
    "slideshow": {
     "slide_type": "slide"
    }
   },
   "source": [
    "## Question 7\n",
    "### The seventh question presents:\n",
    "- A logistic regression in order to examine whether nonviolent resistance remains significant even if we control for the regime type.\n",
    "- A logistic regression which examines whether nonviolent resistance remains significant even if we control for geographical location of the campaign."
   ]
  },
  {
   "cell_type": "markdown",
   "metadata": {
    "slideshow": {
     "slide_type": "slide"
    }
   },
   "source": [
    "### 1 \n",
    "***\n",
    "We extract the columns we need and run the logistic regression on `success` controlling for `nonviol` (whether the campaign was succesful or not), `tpolity` (core of campaign target (democracy –autocracy) 1 year before campaign ends), `lmembers` (log of peakmembership) and `lnpop` (location’s logged population the year the campaign ends)."
   ]
  },
  {
   "cell_type": "code",
   "execution_count": 34,
   "metadata": {
    "slideshow": {
     "slide_type": "fragment"
    }
   },
   "outputs": [
    {
     "name": "stdout",
     "output_type": "stream",
     "text": [
      "Optimization terminated successfully.\n",
      "         Current function value: 0.567143\n",
      "         Iterations 6\n"
     ]
    },
    {
     "data": {
      "text/plain": [
       "Intercept   -0.108506\n",
       "nonviol      0.904785\n",
       "tpolity      0.051987\n",
       "lmembers     0.375104\n",
       "lnpop       -0.436323\n",
       "dtype: float64"
      ]
     },
     "execution_count": 34,
     "metadata": {},
     "output_type": "execute_result"
    }
   ],
   "source": [
    "logreg_nonviol_data = data[[\"location\",\n",
    "                            \"success\",\n",
    "                            \"nonviol\",\n",
    "                            \"tpolity\",\n",
    "                            \"lmembers\", \n",
    "                            \"lnpop\"]].dropna().reset_index(drop=True)\n",
    "suconNonviol_mod = logit('success ~ nonviol + tpolity + lmembers + lnpop', logreg_nonviol_data).fit()\n",
    "suconNonviol_mod.params"
   ]
  },
  {
   "cell_type": "markdown",
   "metadata": {
    "slideshow": {
     "slide_type": "slide"
    }
   },
   "source": [
    "In this model analysis, if we focus on _p values_, we can see that `lmembers` and `lnpop` play the most significant role concerning the success of a campaign. We can also see that `tpolity` has the highest p value comparing it to the other predictors. That is, there are factors which seem to play a more important low in order to predict the success of a campaign, instead of POLITY IV score of the campaign's target. In this logistic regression model we can see that among the factors we included, the nonviolent does not seem to affect the campaign as much as the number of members ans the level of population."
   ]
  },
  {
   "cell_type": "code",
   "execution_count": 35,
   "metadata": {
    "scrolled": false,
    "slideshow": {
     "slide_type": "fragment"
    }
   },
   "outputs": [
    {
     "data": {
      "text/html": [
       "<table class=\"simpletable\">\n",
       "<caption>Logit Regression Results</caption>\n",
       "<tr>\n",
       "  <th>Dep. Variable:</th>        <td>success</td>     <th>  No. Observations:  </th>  <td>   141</td>  \n",
       "</tr>\n",
       "<tr>\n",
       "  <th>Model:</th>                 <td>Logit</td>      <th>  Df Residuals:      </th>  <td>   136</td>  \n",
       "</tr>\n",
       "<tr>\n",
       "  <th>Method:</th>                 <td>MLE</td>       <th>  Df Model:          </th>  <td>     4</td>  \n",
       "</tr>\n",
       "<tr>\n",
       "  <th>Date:</th>            <td>Sun, 01 Dec 2019</td> <th>  Pseudo R-squ.:     </th>  <td>0.1627</td>  \n",
       "</tr>\n",
       "<tr>\n",
       "  <th>Time:</th>                <td>21:18:25</td>     <th>  Log-Likelihood:    </th> <td> -79.967</td> \n",
       "</tr>\n",
       "<tr>\n",
       "  <th>converged:</th>             <td>True</td>       <th>  LL-Null:           </th> <td> -95.506</td> \n",
       "</tr>\n",
       "<tr>\n",
       "  <th>Covariance Type:</th>     <td>nonrobust</td>    <th>  LLR p-value:       </th> <td>2.953e-06</td>\n",
       "</tr>\n",
       "</table>\n",
       "<table class=\"simpletable\">\n",
       "<tr>\n",
       "      <td></td>         <th>coef</th>     <th>std err</th>      <th>z</th>      <th>P>|z|</th>  <th>[0.025</th>    <th>0.975]</th>  \n",
       "</tr>\n",
       "<tr>\n",
       "  <th>Intercept</th> <td>   -0.1085</td> <td>    1.413</td> <td>   -0.077</td> <td> 0.939</td> <td>   -2.878</td> <td>    2.661</td>\n",
       "</tr>\n",
       "<tr>\n",
       "  <th>nonviol</th>   <td>    0.9048</td> <td>    0.464</td> <td>    1.952</td> <td> 0.051</td> <td>   -0.004</td> <td>    1.813</td>\n",
       "</tr>\n",
       "<tr>\n",
       "  <th>tpolity</th>   <td>    0.0520</td> <td>    0.030</td> <td>    1.744</td> <td> 0.081</td> <td>   -0.006</td> <td>    0.110</td>\n",
       "</tr>\n",
       "<tr>\n",
       "  <th>lmembers</th>  <td>    0.3751</td> <td>    0.128</td> <td>    2.926</td> <td> 0.003</td> <td>    0.124</td> <td>    0.626</td>\n",
       "</tr>\n",
       "<tr>\n",
       "  <th>lnpop</th>     <td>   -0.4363</td> <td>    0.142</td> <td>   -3.067</td> <td> 0.002</td> <td>   -0.715</td> <td>   -0.157</td>\n",
       "</tr>\n",
       "</table>"
      ],
      "text/plain": [
       "<class 'statsmodels.iolib.summary.Summary'>\n",
       "\"\"\"\n",
       "                           Logit Regression Results                           \n",
       "==============================================================================\n",
       "Dep. Variable:                success   No. Observations:                  141\n",
       "Model:                          Logit   Df Residuals:                      136\n",
       "Method:                           MLE   Df Model:                            4\n",
       "Date:                Sun, 01 Dec 2019   Pseudo R-squ.:                  0.1627\n",
       "Time:                        21:18:25   Log-Likelihood:                -79.967\n",
       "converged:                       True   LL-Null:                       -95.506\n",
       "Covariance Type:            nonrobust   LLR p-value:                 2.953e-06\n",
       "==============================================================================\n",
       "                 coef    std err          z      P>|z|      [0.025      0.975]\n",
       "------------------------------------------------------------------------------\n",
       "Intercept     -0.1085      1.413     -0.077      0.939      -2.878       2.661\n",
       "nonviol        0.9048      0.464      1.952      0.051      -0.004       1.813\n",
       "tpolity        0.0520      0.030      1.744      0.081      -0.006       0.110\n",
       "lmembers       0.3751      0.128      2.926      0.003       0.124       0.626\n",
       "lnpop         -0.4363      0.142     -3.067      0.002      -0.715      -0.157\n",
       "==============================================================================\n",
       "\"\"\""
      ]
     },
     "execution_count": 35,
     "metadata": {},
     "output_type": "execute_result"
    }
   ],
   "source": [
    "suconNonviol_mod.summary()"
   ]
  },
  {
   "cell_type": "markdown",
   "metadata": {
    "slideshow": {
     "slide_type": "slide"
    }
   },
   "source": [
    "### 2\n",
    "***\n",
    "We now examine whether nonviolent resistance remains significant even if we controlfor geographical location of the campaign through a logistic regression."
   ]
  },
  {
   "cell_type": "code",
   "execution_count": 36,
   "metadata": {
    "slideshow": {
     "slide_type": "fragment"
    }
   },
   "outputs": [
    {
     "name": "stdout",
     "output_type": "stream",
     "text": [
      "Optimization terminated successfully.\n",
      "         Current function value: 0.603612\n",
      "         Iterations 5\n"
     ]
    },
    {
     "data": {
      "text/plain": [
       "Intercept   -0.706077\n",
       "nonviol      1.201901\n",
       "lccode      -0.000753\n",
       "dtype: float64"
      ]
     },
     "execution_count": 36,
     "metadata": {},
     "output_type": "execute_result"
    }
   ],
   "source": [
    "logreg_nonviol_loc_data = data[[\"lccode\",\n",
    "                            \"success\",\n",
    "                            \"nonviol\",]].dropna().reset_index(drop=True)\n",
    "suconNonviol_loc_mod = logit('success ~ nonviol + lccode',\n",
    "                             logreg_nonviol_loc_data).fit()\n",
    "suconNonviol_loc_mod.params"
   ]
  },
  {
   "cell_type": "markdown",
   "metadata": {
    "slideshow": {
     "slide_type": "slide"
    }
   },
   "source": [
    "As far as we can see from the summary of the logistic regression, the Pseudo R-squared equals a very low number of ~0.065 which means that the model does not properly describe what we want to examine. The most significant factor that we can see is whether the campaign was violent or not (`nonviol`). We would say that the nonviolent factor now determines the outcome of a campaign."
   ]
  },
  {
   "cell_type": "code",
   "execution_count": 37,
   "metadata": {
    "scrolled": false,
    "slideshow": {
     "slide_type": "fragment"
    }
   },
   "outputs": [
    {
     "data": {
      "text/html": [
       "<table class=\"simpletable\">\n",
       "<caption>Logit Regression Results</caption>\n",
       "<tr>\n",
       "  <th>Dep. Variable:</th>        <td>success</td>     <th>  No. Observations:  </th>  <td>   323</td>  \n",
       "</tr>\n",
       "<tr>\n",
       "  <th>Model:</th>                 <td>Logit</td>      <th>  Df Residuals:      </th>  <td>   320</td>  \n",
       "</tr>\n",
       "<tr>\n",
       "  <th>Method:</th>                 <td>MLE</td>       <th>  Df Model:          </th>  <td>     2</td>  \n",
       "</tr>\n",
       "<tr>\n",
       "  <th>Date:</th>            <td>Sun, 01 Dec 2019</td> <th>  Pseudo R-squ.:     </th>  <td>0.06476</td> \n",
       "</tr>\n",
       "<tr>\n",
       "  <th>Time:</th>                <td>21:18:25</td>     <th>  Log-Likelihood:    </th> <td> -194.97</td> \n",
       "</tr>\n",
       "<tr>\n",
       "  <th>converged:</th>             <td>True</td>       <th>  LL-Null:           </th> <td> -208.47</td> \n",
       "</tr>\n",
       "<tr>\n",
       "  <th>Covariance Type:</th>     <td>nonrobust</td>    <th>  LLR p-value:       </th> <td>1.370e-06</td>\n",
       "</tr>\n",
       "</table>\n",
       "<table class=\"simpletable\">\n",
       "<tr>\n",
       "      <td></td>         <th>coef</th>     <th>std err</th>      <th>z</th>      <th>P>|z|</th>  <th>[0.025</th>    <th>0.975]</th>  \n",
       "</tr>\n",
       "<tr>\n",
       "  <th>Intercept</th> <td>   -0.7061</td> <td>    0.298</td> <td>   -2.372</td> <td> 0.018</td> <td>   -1.289</td> <td>   -0.123</td>\n",
       "</tr>\n",
       "<tr>\n",
       "  <th>nonviol</th>   <td>    1.2019</td> <td>    0.251</td> <td>    4.790</td> <td> 0.000</td> <td>    0.710</td> <td>    1.694</td>\n",
       "</tr>\n",
       "<tr>\n",
       "  <th>lccode</th>    <td>   -0.0008</td> <td>    0.001</td> <td>   -1.449</td> <td> 0.147</td> <td>   -0.002</td> <td>    0.000</td>\n",
       "</tr>\n",
       "</table>"
      ],
      "text/plain": [
       "<class 'statsmodels.iolib.summary.Summary'>\n",
       "\"\"\"\n",
       "                           Logit Regression Results                           \n",
       "==============================================================================\n",
       "Dep. Variable:                success   No. Observations:                  323\n",
       "Model:                          Logit   Df Residuals:                      320\n",
       "Method:                           MLE   Df Model:                            2\n",
       "Date:                Sun, 01 Dec 2019   Pseudo R-squ.:                 0.06476\n",
       "Time:                        21:18:25   Log-Likelihood:                -194.97\n",
       "converged:                       True   LL-Null:                       -208.47\n",
       "Covariance Type:            nonrobust   LLR p-value:                 1.370e-06\n",
       "==============================================================================\n",
       "                 coef    std err          z      P>|z|      [0.025      0.975]\n",
       "------------------------------------------------------------------------------\n",
       "Intercept     -0.7061      0.298     -2.372      0.018      -1.289      -0.123\n",
       "nonviol        1.2019      0.251      4.790      0.000       0.710       1.694\n",
       "lccode        -0.0008      0.001     -1.449      0.147      -0.002       0.000\n",
       "==============================================================================\n",
       "\"\"\""
      ]
     },
     "execution_count": 37,
     "metadata": {},
     "output_type": "execute_result"
    }
   ],
   "source": [
    "suconNonviol_loc_mod.summary()"
   ]
  }
 ],
 "metadata": {
  "celltoolbar": "Slideshow",
  "kernelspec": {
   "display_name": "Python 3",
   "language": "python",
   "name": "python3"
  },
  "language_info": {
   "codemirror_mode": {
    "name": "ipython",
    "version": 3
   },
   "file_extension": ".py",
   "mimetype": "text/x-python",
   "name": "python",
   "nbconvert_exporter": "python",
   "pygments_lexer": "ipython3",
   "version": "3.7.3"
  }
 },
 "nbformat": 4,
 "nbformat_minor": 2
}
